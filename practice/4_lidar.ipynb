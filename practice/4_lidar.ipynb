{
 "cells": [
  {
   "cell_type": "markdown",
   "metadata": {},
   "source": [
    "<!--\n",
    " * @file        4_lidar.ipynb\n",
    " * @brief       This notebook provides LiDAR data processing and analysis.\n",
    " *\n",
    " * @authors     Jaehwan Lee (idljh5529@gmail.com)\n",
    " *\n",
    " * @date        2025-08-12 Released by AI Lab, Hanyang University\n",
    " *\n",
    "-->\n",
    "\n",
    "# 4. LiDAR (Light Detection And Ranging)\n",
    "\n",
    "이번 실습에서는 실제 취득한 LiDAR 포인트 클라우드 데이터를 분석해보고, 해당 데이터들을 처리하는 몇 가지 방법에 대해 실습을 진행합니다.\n",
    "\n",
    "## Table of Contents\n",
    "1. Open3D 기초\n",
    "2. 실제 취득한 LiDAR 데이터 시각화 및 분석 (Open3D 활용)\n",
    "3. ROI Extraction & Downsampling 실습\n",
    "4. KD Tree 실습\n",
    "5. Fitting 실습"
   ]
  },
  {
   "cell_type": "code",
   "execution_count": 1,
   "metadata": {},
   "outputs": [],
   "source": [
    "# 외부에 정의된 파이썬 모듈(.py 파일)을 수정할 때마다 매번 커널을 재시작하지 않아도 변경 사항이 자동으로 반영되도록 설정\n",
    "%load_ext autoreload\n",
    "%autoreload 2"
   ]
  },
  {
   "cell_type": "markdown",
   "metadata": {},
   "source": [
    "## 1. Open3D 기초\n",
    "\n",
    "<img src=\"../resources/ch4/open3d_logo_horizontal.png\" width=\"50%\">\n",
    "\n",
    "Open3D is an open-source library that supports rapid development of software that deals with 3D data.\n",
    "\n",
    "The Open3D frontend exposes a set of carefully selected data structures and algorithms in both C++ and Python. \n",
    "\n",
    "\n",
    "### Core features\n",
    "- 3D data structures\n",
    "- 3D data processing algorithms\n",
    "- Scene reconstruction\n",
    "- Surface alignment\n",
    "- 3D visualization with Physically based rendering (PBR)\n",
    "- 3D machine learning support with PyTorch and TensorFlow\n",
    "- GPU acceleration for core 3D operations\n",
    "- Available in C++ and Python with a 3D viewer app"
   ]
  },
  {
   "cell_type": "markdown",
   "metadata": {},
   "source": [
    "### 1-1. Basic Setup and Import"
   ]
  },
  {
   "cell_type": "code",
   "execution_count": 2,
   "metadata": {},
   "outputs": [
    {
     "name": "stdout",
     "output_type": "stream",
     "text": [
      "Jupyter environment detected. Enabling Open3D WebVisualizer.\n",
      "[Open3D INFO] WebRTC GUI backend enabled.\n",
      "[Open3D INFO] WebRTCWindowSystem: HTTP handshake server disabled.\n",
      "Open3D version: 0.17.0\n"
     ]
    }
   ],
   "source": [
    "import open3d as o3d\n",
    "import numpy as np\n",
    "import matplotlib.pyplot as plt\n",
    "import os\n",
    "import time\n",
    "\n",
    "# Check Open3D version\n",
    "print(f\"Open3D version: {o3d.__version__}\")"
   ]
  },
  {
   "cell_type": "markdown",
   "metadata": {},
   "source": [
    "### 1-2. Point Cloud Creation and Visualization"
   ]
  },
  {
   "cell_type": "code",
   "execution_count": 3,
   "metadata": {},
   "outputs": [
    {
     "name": "stdout",
     "output_type": "stream",
     "text": [
      "Number of points: 1000\n",
      "Has colors: True\n",
      "Has normals: False\n",
      "Point cloud dimensions: (1000, 3)\n"
     ]
    }
   ],
   "source": [
    "## 2. Point Cloud Creation and Visualization\n",
    "\n",
    "# Create a simple point cloud from random points\n",
    "num_points = 1000\n",
    "points = np.random.rand(num_points, 3) # numpy array of shape (num_points, 3)\n",
    "\n",
    "# Create Open3D point cloud object\n",
    "pcd = o3d.geometry.PointCloud()\n",
    "pcd.points = o3d.utility.Vector3dVector(points)\n",
    "\n",
    "# Add colors (random colors)\n",
    "colors = np.random.rand(num_points, 3)\n",
    "pcd.colors = o3d.utility.Vector3dVector(colors)\n",
    "\n",
    "# Basic information about the point cloud\n",
    "print(f\"Number of points: {len(pcd.points)}\")\n",
    "print(f\"Has colors: {pcd.has_colors()}\")\n",
    "print(f\"Has normals: {pcd.has_normals()}\")\n",
    "print(f\"Point cloud dimensions: {np.asarray(pcd.points).shape}\")\n",
    "\n",
    "# Visualize the point cloud\n",
    "o3d.visualization.draw_geometries([pcd], \n",
    "                                 window_name=\"Random Point Cloud\",\n",
    "                                 width=800, height=600)"
   ]
  },
  {
   "cell_type": "code",
   "execution_count": 4,
   "metadata": {},
   "outputs": [],
   "source": [
    "# Create a structured point cloud (sphere)\n",
    "radius = 1.0\n",
    "num_points = 2000\n",
    "\n",
    "# Generate random points on a sphere\n",
    "azimuth = np.random.uniform(0, 2 * np.pi, num_points)   # 0 ~ 360 degrees\n",
    "elevation = np.random.uniform(-np.pi/2, np.pi/2, num_points)  # -90 ~ 90 degrees\n",
    "\n",
    "x = radius * np.cos(elevation) * np.cos(azimuth)\n",
    "y = radius * np.cos(elevation) * np.sin(azimuth)\n",
    "z = radius * np.sin(elevation)\n",
    "\n",
    "# Numpy column stack\n",
    "points = np.column_stack((x, y, z)) # 여러 개의 1차원 배열을 입력으로 받아, 각 배열을 열(column)로 하는 2차원 배열을 생성\n",
    "\n",
    "# Create point cloud\n",
    "sphere_pcd = o3d.geometry.PointCloud()\n",
    "sphere_pcd.points = o3d.utility.Vector3dVector(points)\n",
    "\n",
    "# Color based on height (z-coordinate)\n",
    "colors = plt.cm.viridis((z - z.min()) / (z.max() - z.min()))[:, :3]\n",
    "sphere_pcd.colors = o3d.utility.Vector3dVector(colors)\n",
    "\n",
    "# 좌표계 추가\n",
    "coordinate_frame = o3d.geometry.TriangleMesh.create_coordinate_frame(size=1.0)\n",
    "\n",
    "# TODO: Visualize with coordinate frame\n",
    "o3d.visualization.draw_geometries([sphere_pcd, coordinate_frame],\n",
    "                                 window_name=\"Sphere Point Cloud\",\n",
    "                                 width=800, height=600)"
   ]
  },
  {
   "cell_type": "markdown",
   "metadata": {},
   "source": [
    "### 1-3. Saving and Loading Point Clouds"
   ]
  },
  {
   "cell_type": "code",
   "execution_count": 5,
   "metadata": {},
   "outputs": [
    {
     "name": "stdout",
     "output_type": "stream",
     "text": [
      "Point cloud saved to:\n",
      "  - output/pcd\\sphere.pcd\n",
      "  - output/pcd\\sphere.ply\n",
      "  - output/pcd\\sphere.xyz\n",
      "\n",
      "Loaded point cloud:\n",
      "  - Number of points: 2000\n",
      "  - Has colors: True\n",
      "  - Has normals: False\n"
     ]
    }
   ],
   "source": [
    "# Save the sphere point cloud to file\n",
    "output_dir = \"output/pcd\"\n",
    "os.makedirs(output_dir, exist_ok=True)\n",
    "\n",
    "# Save in different formats\n",
    "pcd_path = os.path.join(output_dir, \"sphere.pcd\")\n",
    "ply_path = os.path.join(output_dir, \"sphere.ply\")\n",
    "xyz_path = os.path.join(output_dir, \"sphere.xyz\")\n",
    "\n",
    "# TODO: Save point cloud\n",
    "o3d.io.write_point_cloud(pcd_path, sphere_pcd)\n",
    "o3d.io.write_point_cloud(ply_path, sphere_pcd)\n",
    "o3d.io.write_point_cloud(xyz_path, sphere_pcd)\n",
    "\n",
    "print(f\"Point cloud saved to:\")\n",
    "print(f\"  - {pcd_path}\")\n",
    "print(f\"  - {ply_path}\")\n",
    "print(f\"  - {xyz_path}\")\n",
    "\n",
    "# Load point cloud from file\n",
    "loaded_pcd = o3d.io.read_point_cloud(ply_path)\n",
    "print(f\"\\nLoaded point cloud:\")\n",
    "print(f\"  - Number of points: {len(loaded_pcd.points)}\")\n",
    "print(f\"  - Has colors: {loaded_pcd.has_colors()}\")\n",
    "print(f\"  - Has normals: {loaded_pcd.has_normals()}\")\n",
    "\n",
    "# Visualize loaded point cloud\n",
    "o3d.visualization.draw_geometries([loaded_pcd], \n",
    "                                 window_name=\"Loaded Point Cloud\",\n",
    "                                 width=800, height=600)\n"
   ]
  },
  {
   "cell_type": "markdown",
   "metadata": {},
   "source": [
    "## 1-4. Load example point cloud"
   ]
  },
  {
   "cell_type": "code",
   "execution_count": 7,
   "metadata": {},
   "outputs": [
    {
     "name": "stdout",
     "output_type": "stream",
     "text": [
      "Bunny point cloud:\n",
      "  - Number of points: 4093\n",
      "  - Has colors: True\n",
      "  - Has normals: True\n"
     ]
    }
   ],
   "source": [
    "# Load and visualize example point clouds\n",
    "data_dir = \"../data/lidar_pcd\"\n",
    "\n",
    "# Load bunny point cloud\n",
    "bunny_path = os.path.join(data_dir, \"bunny_pc.ply\")\n",
    "if os.path.exists(bunny_path):\n",
    "    bunny_pcd = o3d.io.read_point_cloud(bunny_path) # TODO: Replace xxxxxx with the correct variable\n",
    "    print(f\"Bunny point cloud:\")\n",
    "    print(f\"  - Number of points: {len(bunny_pcd.points)}\")\n",
    "    print(f\"  - Has colors: {bunny_pcd.has_colors()}\")\n",
    "    print(f\"  - Has normals: {bunny_pcd.has_normals()}\")\n",
    "\n",
    "    # 좌표계 추가\n",
    "    coordinate_frame = o3d.geometry.TriangleMesh.create_coordinate_frame(size=1.0)\n",
    "    \n",
    "    # Visualize bunny point cloud\n",
    "    o3d.visualization.draw_geometries([bunny_pcd, coordinate_frame], \n",
    "                                     window_name=\"Bunny Point Cloud\",\n",
    "                                     width=800, height=600)\n",
    "else:\n",
    "    print(f\"Bunny point cloud file not found: {bunny_path}\")"
   ]
  },
  {
   "cell_type": "markdown",
   "metadata": {},
   "source": [
    "## 2. LiDAR 데이터 시각화 및 분석\n",
    "\n",
    "실제 여러 가지 LiDAR를 통해 취득한 포인트 클라우드 데이터를 시각화하고 분석하겠습니다."
   ]
  },
  {
   "cell_type": "markdown",
   "metadata": {},
   "source": [
    "### 2-1. VLP-16"
   ]
  },
  {
   "cell_type": "code",
   "execution_count": 9,
   "metadata": {},
   "outputs": [
    {
     "name": "stdout",
     "output_type": "stream",
     "text": [
      "Original Point Cloud: 27092 points\n",
      "[Open3D WARNING] GLFW Error: WGL: Failed to make context current: 요청한 변환 작업을 지원할 수 없습니다. \n"
     ]
    }
   ],
   "source": [
    "# load VLP-16 point cloud data.\n",
    "vlp16_pcd = o3d.io.read_point_cloud(\"../data/lidar_pcd/vlp16_1497708191392272.pcd\") # AILAB point cloud data\n",
    "print(\"Original Point Cloud:\", len(vlp16_pcd.points), \"points\")\n",
    "\n",
    "# visualize the point cloud\n",
    "geometries = []\n",
    "# 포인트 클라우드 추가\n",
    "geometries.append(vlp16_pcd)\n",
    "# 좌표계 추가\n",
    "coordinate_frame = o3d.geometry.TriangleMesh.create_coordinate_frame(size=1.0)\n",
    "geometries.append(coordinate_frame)\n",
    "o3d.visualization.draw_geometries(geometries)"
   ]
  },
  {
   "cell_type": "markdown",
   "metadata": {},
   "source": [
    "### 2-2. VLP-32C"
   ]
  },
  {
   "cell_type": "code",
   "execution_count": 10,
   "metadata": {},
   "outputs": [
    {
     "name": "stdout",
     "output_type": "stream",
     "text": [
      "Original Point Cloud: 50568 points\n"
     ]
    }
   ],
   "source": [
    "# load VLP-32C point cloud data.\n",
    "vlp32c_pcd = o3d.io.read_point_cloud(\"../data/lidar_pcd/vlp32c_1679319638860873.pcd\") # AILAB point cloud data\n",
    "print(\"Original Point Cloud:\", len(vlp32c_pcd.points), \"points\")\n",
    "\n",
    "# visualize the point cloud\n",
    "geometries = []\n",
    "# 포인트 클라우드 추가\n",
    "geometries.append(vlp32c_pcd)\n",
    "# 좌표계 추가\n",
    "coordinate_frame = o3d.geometry.TriangleMesh.create_coordinate_frame(size=1.0)\n",
    "geometries.append(coordinate_frame)\n",
    "o3d.visualization.draw_geometries(geometries)"
   ]
  },
  {
   "cell_type": "code",
   "execution_count": 11,
   "metadata": {},
   "outputs": [
    {
     "name": "stdout",
     "output_type": "stream",
     "text": [
      "[Open3D WARNING] GLFW Error: WGL: Failed to make context current: 요청한 변환 작업을 지원할 수 없습니다. \n",
      "[Open3D WARNING] GLFW Error: WGL: Failed to make context current: 핸들이 잘못되었습니다. \n"
     ]
    }
   ],
   "source": [
    "# VLP 16과 비교\n",
    "vlp16_pcd_colored = vlp16_pcd.paint_uniform_color([1, 0, 0])\n",
    "vlp32c_pcd_colored = vlp32c_pcd.paint_uniform_color([0, 1, 0])\n",
    "\n",
    "# 두 포인트 클라우드를 시각화\n",
    "o3d.visualization.draw_geometries([vlp16_pcd_colored, vlp32c_pcd_colored])"
   ]
  },
  {
   "cell_type": "markdown",
   "metadata": {},
   "source": [
    "### 2-3. Ruby Plus"
   ]
  },
  {
   "cell_type": "code",
   "execution_count": 12,
   "metadata": {},
   "outputs": [
    {
     "name": "stdout",
     "output_type": "stream",
     "text": [
      "Original Point Cloud: 230400 points\n",
      "[Open3D WARNING] GLFW Error: WGL: Failed to make context current: 핸들이 잘못되었습니다. \n",
      "[Open3D WARNING] GLFW Error: WGL: Failed to make context current: 핸들이 잘못되었습니다. \n"
     ]
    }
   ],
   "source": [
    "# load Ruby Plus point cloud data.\n",
    "ruby_plus_pcd = o3d.io.read_point_cloud(\"../data/lidar_pcd/ruby_1751004403283928.pcd\") # AILAB point cloud data\n",
    "print(\"Original Point Cloud:\", len(ruby_plus_pcd.points), \"points\")\n",
    "\n",
    "# visualize the point cloud\n",
    "geometries = []\n",
    "# 포인트 클라우드 추가\n",
    "geometries.append(ruby_plus_pcd)\n",
    "# 좌표계 추가\n",
    "coordinate_frame = o3d.geometry.TriangleMesh.create_coordinate_frame(size=1.0)\n",
    "geometries.append(coordinate_frame)\n",
    "o3d.visualization.draw_geometries(geometries)"
   ]
  },
  {
   "cell_type": "code",
   "execution_count": 13,
   "metadata": {},
   "outputs": [],
   "source": [
    "# VLP 32C와 비교\n",
    "ruby_plus_colored = ruby_plus_pcd.paint_uniform_color([1, 0, 0])\n",
    "vlp32c_colored = vlp32c_pcd.paint_uniform_color([0, 1, 0])\n",
    "\n",
    "# 두 포인트 클라우드를 시각화\n",
    "o3d.visualization.draw_geometries([ruby_plus_colored, vlp32c_colored])"
   ]
  },
  {
   "cell_type": "markdown",
   "metadata": {},
   "source": [
    "### 2-4. RS-LiDAR-M1\n",
    "\n",
    "이전 Mechanical (spinning) LiDAR와 다르게, 해당 LiDAR는 MEMS solid-state LiDAR입니다.  \n",
    "\n",
    "다른 포인트 클라우드 데이터와 비교하여 시각화해보세요."
   ]
  },
  {
   "cell_type": "code",
   "execution_count": 14,
   "metadata": {},
   "outputs": [
    {
     "name": "stdout",
     "output_type": "stream",
     "text": [
      "Original Point Cloud: 78750 points\n"
     ]
    }
   ],
   "source": [
    "# load RS-LiDAR-M1 point cloud data.\n",
    "m1_pcd = o3d.io.read_point_cloud(\"../data/lidar_pcd/m1_1751004403277387.pcd\") # AILAB point cloud data\n",
    "print(\"Original Point Cloud:\", len(m1_pcd.points), \"points\")\n",
    "\n",
    "# visualize the point cloud\n",
    "geometries = []\n",
    "# 포인트 클라우드 추가\n",
    "geometries.append(m1_pcd)\n",
    "# 좌표계 추가\n",
    "coordinate_frame = o3d.geometry.TriangleMesh.create_coordinate_frame(size=1.0)\n",
    "geometries.append(coordinate_frame)\n",
    "o3d.visualization.draw_geometries(geometries)"
   ]
  },
  {
   "cell_type": "code",
   "execution_count": 15,
   "metadata": {},
   "outputs": [
    {
     "name": "stdout",
     "output_type": "stream",
     "text": [
      "[Open3D WARNING] GLFW Error: WGL: Failed to make context current: 핸들이 잘못되었습니다. \n",
      "[Open3D WARNING] GLFW Error: WGL: Failed to make context current: 요청한 변환 작업을 지원할 수 없습니다. \n",
      "[Open3D WARNING] GLFW Error: WGL: Failed to make context current: 핸들이 잘못되었습니다. \n",
      "[Open3D WARNING] GLFW Error: WGL: Failed to make context current: 핸들이 잘못되었습니다. \n",
      "[Open3D WARNING] GLFW Error: WGL: Failed to make context current: 핸들이 잘못되었습니다. \n"
     ]
    }
   ],
   "source": [
    "# Ruby Plus와 비교\n",
    "ruby_plus_colored = ruby_plus_pcd.paint_uniform_color([1, 0, 0])\n",
    "m1_colored = m1_pcd.paint_uniform_color([0, 1, 0])\n",
    "\n",
    "# 두 포인트 클라우드를 시각화\n",
    "o3d.visualization.draw_geometries([ruby_plus_colored, m1_colored])"
   ]
  },
  {
   "cell_type": "markdown",
   "metadata": {},
   "source": [
    "## 3. ROI Extraction & Downsampling\n",
    "\n",
    "고속 도로 상황에서의 LiDAR 포인트 클라우드를 ROI Extraction 및 Downsampling을 진행합니다."
   ]
  },
  {
   "cell_type": "code",
   "execution_count": 16,
   "metadata": {},
   "outputs": [
    {
     "name": "stdout",
     "output_type": "stream",
     "text": [
      "Original Point Cloud: 43080 points\n",
      "[Open3D WARNING] GLFW Error: WGL: Failed to make context current: 요청한 변환 작업을 지원할 수 없습니다. \n",
      "[Open3D WARNING] GLFW Error: WGL: Failed to make context current: 핸들이 잘못되었습니다. \n",
      "[Open3D WARNING] GLFW Error: WGL: Failed to make context current: 요청한 변환 작업을 지원할 수 없습니다. \n"
     ]
    }
   ],
   "source": [
    "# load 고속 도로 상황에서의 point cloud data.\n",
    "pcd = o3d.io.read_point_cloud(\"../data/lidar_pcd/ailab_pc_data_240627_18-59-00-363.pcd\") # AILAB point cloud data\n",
    "print(\"Original Point Cloud:\", len(pcd.points), \"points\")\n",
    "\n",
    "# visualize the point cloud\n",
    "geometries = []\n",
    "# 포인트 클라우드 추가\n",
    "geometries.append(pcd)\n",
    "# 좌표계 추가\n",
    "coordinate_frame = o3d.geometry.TriangleMesh.create_coordinate_frame(size=1.0)\n",
    "geometries.append(coordinate_frame)\n",
    "o3d.visualization.draw_geometries(geometries)"
   ]
  },
  {
   "cell_type": "markdown",
   "metadata": {},
   "source": [
    "### 3-1. ROI(Region of Interest) 추출\n",
    "주변 객체 탐지에 필요한 영역만을 선별하여 처리 속도를 향상시키고 불필요한 노이즈를 제거합니다.\n",
    "\n",
    "또한 자차에 맺힌 포인트로 False positive가 생기는 것을 방지하기 위해, 자차 주변 포인트를 제거합니다. \n",
    "\n",
    "해당 실습에서는 다음과 같은 관심 영역을 설정합니다:\n",
    "- **X축 범위**: 전후 60m 정도 (-60m ~ +60m)\n",
    "- **Y축 범위**: 좌우 40m 정도 (-40m ~ +40m)  \n",
    "- **Z축 범위**: 지면 아래 10m ~ 지면 위 10m (-10m ~ +10m)"
   ]
  },
  {
   "cell_type": "code",
   "execution_count": 20,
   "metadata": {},
   "outputs": [
    {
     "name": "stdout",
     "output_type": "stream",
     "text": [
      "=== ROI 추출: 먼 거리의 포인트 제거 ===\n"
     ]
    }
   ],
   "source": [
    "# 커스텀 모듈 임포트\n",
    "from tutlibs.lidar.custom_lidar import custom_extract_roi\n",
    "\n",
    "print(\"=== ROI 추출: 먼 거리의 포인트 제거 ===\")\n",
    "# ROI 파라미터 설정\n",
    "roi_x_range = (-60, 60)  # X축 범위: 전후 60m\n",
    "roi_y_range = (-40, 40)  # Y축 범위: 좌우 40m  \n",
    "roi_z_range = (-10, 10)  # Z축 범위: 위아래 10m\n",
    "\n",
    "# ROI 영역 추출\n",
    "roi_pcd, far_pcd = custom_extract_roi(pcd, roi_x_range, roi_y_range, roi_z_range) # TODO: custom_extract_roi 함수 완성\n",
    "\n",
    "# 먼 거리에 존재하는 포인트들의 색을 다르게 하여 시각화\n",
    "far_pcd.paint_uniform_color([0.3, 0.3, 0.3])\n",
    "o3d.visualization.draw_geometries([roi_pcd, far_pcd], \n",
    "                                window_name=\"ROI Result\")"
   ]
  },
  {
   "cell_type": "code",
   "execution_count": 21,
   "metadata": {},
   "outputs": [
    {
     "name": "stdout",
     "output_type": "stream",
     "text": [
      "원하는 영역의 포인트 수: 30616\n",
      "[Open3D WARNING] GLFW Error: WGL: Failed to make context current: 요청한 변환 작업을 지원할 수 없습니다. \n"
     ]
    }
   ],
   "source": [
    "# 1-3-3. ROI 재추출 - EGO 차량 주변 포인트 제거\n",
    "ego_roi_x_range = (-2.5, 2.5)  # TODO: X축 범위\n",
    "ego_roi_y_range = (-2.5, 2.5)  # TODO: Y축 범위\n",
    "ego_roi_z_range = (-10, 10)    # TODO: Z축 범위\n",
    "# ROI 영역 추출 - 차량 주변이 아닌 바깥 쪽의 포인트들만 사용\n",
    "ego_pcd, surround_pcd = custom_extract_roi(roi_pcd, ego_roi_x_range, ego_roi_y_range, ego_roi_z_range)\n",
    "print(f\"원하는 영역의 포인트 수: {len(surround_pcd.points)}\")\n",
    "\n",
    "# 주변 영역만 시각화\n",
    "ego_pcd.paint_uniform_color([0.3, 0.3, 0.3])\n",
    "o3d.visualization.draw_geometries([surround_pcd, ego_pcd], \n",
    "                                window_name=\"ROI Result\")"
   ]
  },
  {
   "cell_type": "markdown",
   "metadata": {},
   "source": [
    "### 3-3. Downsampling (다운샘플링)\n",
    "다운샘플링을 통해 포인트 수를 줄여 처리 속도를 향상시킵니다.  \n",
    "\n",
    "뿐만 아니라 Voxel grid sampling을 통해 공간 상의 포인트들을 균일하게 분포시켜 거리에 따른 의존성을 줄입니다.\n",
    "\n",
    "해당 실슴에서는 Open3D에서 제공하는 voxel grid sampling 함수를 사용할 것이며, 해당 함수의 경우 복셀 평균 점을 대표 점으로 사용합니다."
   ]
  },
  {
   "cell_type": "code",
   "execution_count": 22,
   "metadata": {},
   "outputs": [
    {
     "name": "stdout",
     "output_type": "stream",
     "text": [
      "[Open3D WARNING] GLFW Error: WGL: Failed to make context current: 핸들이 잘못되었습니다. \n",
      "[Open3D WARNING] GLFW Error: WGL: Failed to make context current: 요청한 변환 작업을 지원할 수 없습니다. \n"
     ]
    }
   ],
   "source": [
    "# Open3D 라이브러리에서 제공하는 voxel grid sampling 함수 사용\n",
    "voxel_size = 0.5\n",
    "sampled_pcd_open3d = surround_pcd.voxel_down_sample(voxel_size) # TODO: surround_pcd에 voxel_down_sample 함수 적용\n",
    "\n",
    "# 시각화\n",
    "o3d.visualization.draw_geometries([sampled_pcd_open3d], \n",
    "                                window_name=\"Voxel Grid Sampling Result\")\n",
    "\n",
    "# 다운샘플링 이전 포인트 클라우드와 비교 시각화   \n",
    "surround_pcd_color = surround_pcd.paint_uniform_color([1.0, 0.0, 0.0])\n",
    "sampled_pcd_open3d_color = sampled_pcd_open3d.paint_uniform_color([0.0, 1.0, 0.0])\n",
    "o3d.visualization.draw_geometries([surround_pcd_color, sampled_pcd_open3d_color], \n",
    "                                window_name=\"Before and After Downsampling\")\n"
   ]
  },
  {
   "cell_type": "markdown",
   "metadata": {},
   "source": [
    "## 4. KD Tree\n",
    "\n",
    "### KD-Tree란?\n",
    "\n",
    "**KD-Tree (k-dimensional tree)**는 k차원 공간의 점들을 효율적으로 검색하기 위한 자료구조입니다. 특히 **최근접 이웃 검색(Nearest Neighbor Search)**과 **범위 검색(Range Search)**에 매우 유용합니다.\n",
    "\n",
    "<img src=\"../resources/ch4/neighbors.png\" width=\"30%\">\n",
    "\n",
    "### 주요 특징\n",
    "\n",
    "1. **이진 트리 구조**: 각 노드는 최대 2개의 자식을 가집니다.\n",
    "2. **차원별 분할**: 각 레벨에서 하나의 차원(축)을 기준으로 공간을 분할합니다.\n",
    "3. **균형 트리**: 일반적으로 중앙값(median)을 기준으로 분할하여 균형을 맞춥니다.\n",
    "\n",
    "### 4-1. 2D에서의 KD-Tree 구축 원리\n",
    "\n",
    "2차원 공간에서 KD-Tree 구축 과정을 단계별로 살펴보겠습니다:\n",
    "\n",
    "#### Step 1: 루트 노드 생성\n",
    "- 전체 점들을 X축 좌표로 정렬\n",
    "- 중앙값(median)을 가진 점을 루트 노드로 선택\n",
    "- 이 점을 기준으로 공간을 왼쪽과 오른쪽으로 분할\n",
    "\n",
    "#### Step 2: 재귀적 분할\n",
    "- **1레벨 (depth=1)**: X축을 기준으로 분할\n",
    "  - 왼쪽 서브트리: X좌표의 중앙값으로 분할\n",
    "  - 오른쪽 서브트리: X좌표의 중앙값으로 분할\n",
    "\n",
    "- **2레벨 (depth=2)**: 다시 Y축을 기준으로 분할\n",
    "  - 각 서브트리에서 Y좌표의 중앙값으로 분할\n",
    "\n",
    "- **반복**: `axis = depth % k` (k=2이므로 X→Y→X→Y...)\n",
    "\n",
    "#### 시각적 이해\n",
    "\n",
    "```\n",
    "초기 점들:     분할 과정:           최종 트리:\n",
    "\n",
    "●   ●  ●      1) X축 분할          Root(X=50)\n",
    "  ●     ●      |                  /         \\\n",
    "●   ●  ●      |              Left(Y=30)   Right(Y=70)\n",
    "  ●     ●      2) Y축 분할        /    \\       /     \\\n",
    "●   ●  ●         ----         L-L(X)  L-R(X) R-L(X) R-R(X)\n",
    "```\n",
    "\n",
    "#### 핵심 알고리즘\n",
    "\n",
    "```python\n",
    "def build_kdtree(points, depth=0):\n",
    "    k = len(points[0])  # 차원 수\n",
    "    axis = depth % k    # 현재 분할 축\n",
    "     \n",
    "    # 현재 축으로 정렬하여 중앙값 찾기\n",
    "    points.sort(key=lambda x: x[axis])\n",
    "    median = len(points) // 2\n",
    "    \n",
    "    # 노드 생성 및 재귀 호출\n",
    "    node = KDNode(points[median])\n",
    "    node.left = build_kdtree(points[:median], depth+1)\n",
    "    node.right = build_kdtree(points[median+1:], depth+1)\n",
    "    \n",
    "    return node\n",
    "```\n",
    "\n",
    "#### 공간 분할의 기하학적 의미\n",
    "\n",
    "- **X축 분할**: 수직선으로 공간을 좌우로 나눔\n",
    "- **Y축 분할**: 수평선으로 공간을 위아래로 나눔\n",
    "- **결과**: 각 리프 노드는 직사각형 영역을 담당\n",
    "#### 시간 복잡도\n",
    " **구축**: O(n log n)  \n",
    " **검색**: 평균 O(log n), 최악 O(n)  \n",
    " **공간**: O(n)  \n",
    "\n",
    "### 4-2. k-NN 검색 수행 및 결과 확인\n",
    "\n",
    "생성된 KD-Tree를 사용하는 k-최근접 이웃 검색은 아래의 방법으로 수행됩니다.\n",
    "\n",
    "#### KD-Tree k-NN 검색 과정 설명:\n",
    "\n",
    "1. **초기화**: 쿼리 포인트에서 시작하여 루트 노드부터 탐색을 시작합니다.\n",
    "\n",
    "2. **하향 탐색 (Downward Traversal)**:\n",
    "   - 현재 노드의 분할 축(X 또는 Y)을 확인합니다.\n",
    "   - 쿼리 포인트의 해당 축 좌표와 노드의 좌표를 비교합니다.\n",
    "   - 작으면 왼쪽 자식으로, 크거나 같으면 오른쪽 자식으로 이동합니다.\n",
    "   - 리프 노드에 도달할 때까지 반복합니다.\n",
    "\n",
    "3. **후보 수집**: 방문한 노드들을 k-NN 후보로 추가합니다.\n",
    "\n",
    "4. **백트래킹 (Backtracking)**:\n",
    "   - 상위 노드로 돌아가면서 다른 쪽 서브트리도 확인해야 하는지 판단합니다.\n",
    "   - 현재까지 찾은 k번째 최근접 이웃까지의 거리보다 분할 경계까지의 거리가 더 가까우면 반대편 서브트리도 탐색합니다.\n",
    "   - 이는 더 가까운 이웃이 반대편에 있을 가능성이 있기 때문입니다.\n",
    "\n",
    "5. **결과 정리**: 최종적으로 k개의 최근접 이웃을 거리 순으로 정렬하여 반환합니다.\n",
    "\n",
    "**KD-Tree k-NN 검색의 장점:**\n",
    "- 전체 포인트를 모두 확인하지 않고도 효율적으로 k-NN을 찾을 수 있습니다.\n",
    "- 평균적으로 O(log n) 시간 복잡도를 가집니다.\n",
    "- 공간 분할을 통해 불필요한 계산을 줄일 수 있습니다.\n",
    "\n",
    "이 과정을 통해 대용량 포인트 클라우드에서도 빠른 이웃 검색이 가능합니다."
   ]
  },
  {
   "cell_type": "code",
   "execution_count": 23,
   "metadata": {},
   "outputs": [
    {
     "name": "stdout",
     "output_type": "stream",
     "text": [
      "테스트 데이터: 10000개의 3D 포인트\n",
      "테스트 쿼리: 10개\n"
     ]
    }
   ],
   "source": [
    "# 포인트 클라우드 생성 (성능 비교를 위해)\n",
    "np.random.seed(123)\n",
    "large_points = np.random.rand(10000, 3) * 100  # 3D 포인트 10000개\n",
    "\n",
    "print(f\"테스트 데이터: {len(large_points)}개의 3D 포인트\")\n",
    "\n",
    "# 쿼리 포인트들 생성\n",
    "test_queries = np.random.rand(10, 3) * 100\n",
    "\n",
    "print(f\"테스트 쿼리: {len(test_queries)}개\")"
   ]
  },
  {
   "cell_type": "code",
   "execution_count": 25,
   "metadata": {},
   "outputs": [
    {
     "name": "stdout",
     "output_type": "stream",
     "text": [
      "=== 트리 구축 시간 확인 ===\n",
      "Open3D 트리 구축: 0.0043초\n"
     ]
    }
   ],
   "source": [
    "print(\"=== 트리 구축 시간 확인 ===\")\n",
    "# Open3D 구현체\n",
    "large_pcd = o3d.geometry.PointCloud()\n",
    "large_pcd.points = o3d.utility.Vector3dVector(large_points)\n",
    "\n",
    "start_time = time.perf_counter()\n",
    "# Open3D 트리 구축\n",
    "o3d_tree = o3d.geometry.KDTreeFlann(large_pcd) # TODO: Open3D 함수를 사용하여 large_pcd에 KD-Tree 구축\n",
    "o3d_build_time = time.perf_counter() - start_time\n",
    "\n",
    "print(f\"Open3D 트리 구축: {o3d_build_time:.4f}초\")"
   ]
  },
  {
   "cell_type": "code",
   "execution_count": 27,
   "metadata": {},
   "outputs": [
    {
     "name": "stdout",
     "output_type": "stream",
     "text": [
      "\n",
      "=== k-NN 검색 시간 비교 ===\n",
      "Brute-force 평균 검색 시간: 0.000988초\n",
      "Open3D 평균 검색 시간: 0.000031초\n",
      "Open3D vs Brute-force 검색 속도비: 32.07x\n"
     ]
    }
   ],
   "source": [
    "# 커스텀 모듈 임포트\n",
    "from tutlibs.lidar.custom_lidar import custom_brute_force_search\n",
    "\n",
    "print(\"\\n=== k-NN 검색 시간 비교 ===\")\n",
    "k = 5\n",
    "\n",
    "# 일반적인 for문을 통한 search 검색 시간 측정\n",
    "custom_search_times = []\n",
    "for query in test_queries[:10]:  # 처음 10개만 테스트\n",
    "    start_time = time.perf_counter()\n",
    "    indices, distances = custom_brute_force_search(large_pcd, query, k) # TODO: custom_brute_force_search 함수 완성\n",
    "    custom_search_times.append(time.perf_counter() - start_time)\n",
    "\n",
    "# Open3D 검색 시간 측정\n",
    "o3d_search_times = []\n",
    "for query in test_queries[:10]:  # 처음 10개만 테스트\n",
    "    start_time = time.perf_counter()\n",
    "    [num_neighbors, indices, distances] = o3d_tree.search_knn_vector_3d(query, k) # TODO: search_knn_vector_3d 함수를 사용하여 knn 검색\n",
    "    o3d_search_times.append(time.perf_counter() - start_time)\n",
    "\n",
    "avg_custom_time = np.mean(custom_search_times)\n",
    "avg_o3d_time = np.mean(o3d_search_times)\n",
    "\n",
    "print(f\"Brute-force 평균 검색 시간: {avg_custom_time:.6f}초\")\n",
    "print(f\"Open3D 평균 검색 시간: {avg_o3d_time:.6f}초\")\n",
    "print(f\"Open3D vs Brute-force 검색 속도비: {avg_custom_time/avg_o3d_time:.2f}x\")"
   ]
  },
  {
   "cell_type": "code",
   "execution_count": 28,
   "metadata": {},
   "outputs": [
    {
     "name": "stdout",
     "output_type": "stream",
     "text": [
      "\n",
      "=== 정확성 비교 ===\n",
      "테스트 쿼리 (3D): (89.40, 48.79, 45.71)\n",
      "\n",
      "커스텀 구현체 결과 (3D):\n",
      "  1: 인덱스 5616, 거리 3.1862, 좌표 (91.77, 47.03, 44.51)\n",
      "  2: 인덱스 168, 거리 3.2200, 좌표 (89.39, 49.65, 42.61)\n",
      "  3: 인덱스 3203, 거리 3.3619, 좌표 (89.11, 49.45, 42.43)\n",
      "  4: 인덱스 7385, 거리 3.4120, 좌표 (86.41, 48.56, 44.08)\n",
      "  5: 인덱스 4817, 거리 3.9039, 좌표 (88.72, 48.29, 49.52)\n",
      "\n",
      "Open3D 결과 (3D):\n",
      "  1: 인덱스 5616, 거리 3.1862, 좌표 (91.77, 47.03, 44.51)\n",
      "  2: 인덱스 168, 거리 3.2200, 좌표 (89.39, 49.65, 42.61)\n",
      "  3: 인덱스 3203, 거리 3.3619, 좌표 (89.11, 49.45, 42.43)\n",
      "  4: 인덱스 7385, 거리 3.4120, 좌표 (86.41, 48.56, 44.08)\n",
      "  5: 인덱스 4817, 거리 3.9039, 좌표 (88.72, 48.29, 49.52)\n"
     ]
    }
   ],
   "source": [
    "print(\"\\n=== 정확성 비교 ===\")\n",
    "    \n",
    "# 동일한 3D 데이터에서 결과 비교\n",
    "test_query_3d = test_queries[0]\n",
    "\n",
    "# 커스텀 구현체 결과\n",
    "custom_indices, custom_distances = custom_brute_force_search(large_pcd, test_query_3d, k) \n",
    "\n",
    "# Open3D 결과  \n",
    "[num_neighbors, o3d_indices, o3d_distances] = o3d_tree.search_knn_vector_3d(test_query_3d, k) # TODO: search_knn_vector_3d 함수를 사용하여 knn 검색\n",
    "o3d_distances = np.sqrt(o3d_distances)  # Open3D는 제곱거리를 반환 --> 유클리드 거리로 변환\n",
    "\n",
    "print(f\"테스트 쿼리 (3D): ({test_query_3d[0]:.2f}, {test_query_3d[1]:.2f}, {test_query_3d[2]:.2f})\")\n",
    "\n",
    "print(f\"\\n커스텀 구현체 결과 (3D):\")\n",
    "for i, (idx, dist) in enumerate(zip(custom_indices, custom_distances)):\n",
    "    point = large_points[idx]\n",
    "    print(f\"  {i+1}: 인덱스 {idx}, 거리 {dist:.4f}, 좌표 ({point[0]:.2f}, {point[1]:.2f}, {point[2]:.2f})\")\n",
    "\n",
    "print(f\"\\nOpen3D 결과 (3D):\")\n",
    "for i, (idx, dist) in enumerate(zip(o3d_indices, o3d_distances)):\n",
    "    point = large_points[idx]\n",
    "    print(f\"  {i+1}: 인덱스 {idx}, 거리 {dist:.4f}, 좌표 ({point[0]:.2f}, {point[1]:.2f}, {point[2]:.2f})\")"
   ]
  },
  {
   "cell_type": "code",
   "execution_count": 29,
   "metadata": {},
   "outputs": [
    {
     "name": "stdout",
     "output_type": "stream",
     "text": [
      "\n",
      "=== 성능 비교 시각화 ===\n"
     ]
    },
    {
     "data": {
      "image/png": "[encoded data removed]",
      "text/plain": [
       "<Figure size 1500x600 with 2 Axes>"
      ]
     },
     "metadata": {},
     "output_type": "display_data"
    }
   ],
   "source": [
    "print(\"\\n=== 성능 비교 시각화 ===\")\n",
    "    \n",
    "# 다양한 데이터 크기에서 성능 비교\n",
    "sizes = [50, 200, 500, 1000]\n",
    "o3d_build_times = []\n",
    "custom_search_times = []\n",
    "o3d_search_times = []\n",
    "\n",
    "for size in sizes:\n",
    "    # 테스트 데이터 생성\n",
    "    test_data = np.random.rand(size, 3) * 100\n",
    "    test_query = np.random.rand(3) * 100\n",
    "    \n",
    "    # Open3D kd tree 구축 시간\n",
    "    pcd = o3d.geometry.PointCloud()\n",
    "    pcd.points = o3d.utility.Vector3dVector(test_data)\n",
    "    start = time.perf_counter()\n",
    "    o3d_tree = o3d.geometry.KDTreeFlann(pcd)\n",
    "    o3d_build_times.append(time.perf_counter() - start)\n",
    "    \n",
    "    # 검색 시간 (10번 평균)\n",
    "    custom_times = []\n",
    "    o3d_times = []\n",
    "    for _ in range(10):\n",
    "        start = time.perf_counter()\n",
    "        custom_indices, custom_distances = custom_brute_force_search(pcd, test_query, 5)\n",
    "        custom_times.append(time.perf_counter() - start)\n",
    "        \n",
    "        start = time.perf_counter()\n",
    "        o3d_tree.search_knn_vector_3d(test_query, 5)\n",
    "        o3d_times.append(time.perf_counter() - start)\n",
    "    \n",
    "    custom_search_times.append(np.mean(custom_times))\n",
    "    o3d_search_times.append(np.mean(o3d_times))\n",
    "\n",
    "# 시각화\n",
    "fig, (ax1, ax2) = plt.subplots(1, 2, figsize=(15, 6))\n",
    "\n",
    "# 구축 시간 출력\n",
    "ax1.plot(sizes, o3d_build_times, 's-', label='KD-Tree (Open3D)', linewidth=2)\n",
    "ax1.set_xlabel('Data Size')\n",
    "ax1.set_ylabel('Build Time (seconds)')\n",
    "ax1.set_title('KD-Tree Build Time Comparison')\n",
    "ax1.legend()\n",
    "ax1.grid(True, alpha=0.3)\n",
    "\n",
    "# 검색 시간 비교\n",
    "ax2.plot(sizes, o3d_search_times, 's-', label='KD-Tree (Open3D)', linewidth=2)\n",
    "ax2.plot(sizes, custom_search_times, 'o-', label='Brute-force', linewidth=2)\n",
    "ax2.set_xlabel('Data Size')\n",
    "ax2.set_ylabel('Search Time (seconds)')\n",
    "ax2.set_title('k-NN Search Time Comparison')\n",
    "ax2.legend()\n",
    "ax2.grid(True, alpha=0.3)\n",
    "\n",
    "plt.tight_layout()\n",
    "plt.show()"
   ]
  },
  {
   "cell_type": "markdown",
   "metadata": {},
   "source": [
    "## 5. Fitting\n",
    "<!-- Fitting은 주어진 데이터에 가장 적합한 수학적 모델을 찾는 과정입니다. -->\n",
    "Fitting은 주어진 포인트 클라우드 데이터에 가장 적합한 수학적 모델(직선, 평면, 구 등)을 찾는 과정입니다.\n",
    "\n",
    "<!-- 이 절에서는 다음과 같은 피팅 방법들을 소개합니다: -->\n",
    "이 실습에서는 다음과 같은 피팅 방법들을 학습합니다:\n",
    "- **Least Squares Fitting (최소 자승법)**: 모든 데이터 포인트를 고려하여 전체 오차를 최소화하는 방법\n",
    "- **RANSAC (RANdom SAmple Consensus)**: 아웃라이어에 강건한 피팅 방법\n",
    "\n",
    "다루게 될 기하학적 모델들:\n",
    "- **직선 피팅**: 2D 공간에서 직선 방정식 y = ax + b 추정\n",
    "- **구 피팅**: 3D 공간에서 구 방정식 (x-cx)² + (y-cy)² + (z-cz)² = r² 추정\n"
   ]
  },
  {
   "cell_type": "markdown",
   "metadata": {},
   "source": [
    "### 5-1. Least Squares Fitting (최소 자승법)\n",
    "최소 자승법은 모든 데이터 포인트와 모델 사이의 오차 제곱합을 최소화하는 방법입니다."
   ]
  },
  {
   "cell_type": "markdown",
   "metadata": {},
   "source": [
    "#### 5-1-1. 포인트 클라우드 생성\n",
    "노이즈가 포함된 직선과 구 형태의 포인트 클라우드를 생성합니다."
   ]
  },
  {
   "cell_type": "code",
   "execution_count": 31,
   "metadata": {},
   "outputs": [
    {
     "name": "stdout",
     "output_type": "stream",
     "text": [
      "실제 직선 방정식: y = 0.5x + 1.0\n",
      "생성된 포인트 개수: 1000\n"
     ]
    }
   ],
   "source": [
    "# point cloud 생성 함수들 및 시각화 함수들 불러오기\n",
    "from tutlibs.lidar.custom_lidar import visualize_line_fitting_result\n",
    "from tutlibs.pointcloud_io.create_pcd import create_line_pcd\n",
    "\n",
    "# 직선 파라미터 설정: y = ax + b\n",
    "true_line_params = np.array([0.5, 1.0])  # a=0.5, b=1.0\n",
    "print(f\"실제 직선 방정식: y = {true_line_params[0]}x + {true_line_params[1]}\")\n",
    "\n",
    "# 직선 포인트 클라우드 생성\n",
    "line_pcd = create_line_pcd(\n",
    "    line_params=true_line_params,\n",
    "    num_points=1000,\n",
    "    noise_std=0.3      # 가우시안 노이즈 표준편차\n",
    ")\n",
    "\n",
    "# 생성된 포인트 클라우드 시각화\n",
    "print(f\"생성된 포인트 개수: {len(line_pcd.points)}\")\n",
    "o3d.visualization.draw_geometries([line_pcd], window_name=\"Straight point cloud with noise\")"
   ]
  },
  {
   "cell_type": "code",
   "execution_count": 32,
   "metadata": {},
   "outputs": [
    {
     "name": "stdout",
     "output_type": "stream",
     "text": [
      "실제 구 방정식: (x-2.0)² + (y-1.0)² + (z-0.5)² = 3.0²\n",
      "생성된 포인트 개수: 1500\n",
      "[Open3D WARNING] GLFW Error: WGL: Failed to make context current: 요청한 변환 작업을 지원할 수 없습니다. \n"
     ]
    }
   ],
   "source": [
    "# point cloud 생성 함수들 및 시각화 함수들 불러오기\n",
    "from tutlibs.lidar.custom_lidar import visualize_sphere_fitting_result\n",
    "from tutlibs.pointcloud_io.create_pcd import create_sphere_pcd\n",
    "\n",
    "# 구 파라미터 설정\n",
    "true_sphere_center = np.array([2.0, 1.0, 0.5])  # 중심점 (cx, cy, cz)\n",
    "true_sphere_radius = 3.0                          # 반지름\n",
    "print(f\"실제 구 방정식: (x-{true_sphere_center[0]})² + (y-{true_sphere_center[1]})² + (z-{true_sphere_center[2]})² = {true_sphere_radius}²\")\n",
    "\n",
    "# 구 포인트 클라우드 생성\n",
    "sphere_pcd = create_sphere_pcd(\n",
    "    sphere_center=true_sphere_center,\n",
    "    radius=true_sphere_radius,\n",
    "    num_points=1500,\n",
    "    noise_std=0.15      # 가우시안 노이즈 표준편차\n",
    ")\n",
    "\n",
    "# 생성된 포인트 클라우드 시각화\n",
    "print(f\"생성된 포인트 개수: {len(sphere_pcd.points)}\")\n",
    "o3d.visualization.draw_geometries([sphere_pcd], window_name=\"Sphere point cloud with noise\")"
   ]
  },
  {
   "cell_type": "markdown",
   "metadata": {},
   "source": [
    "#### 5-1-2. 직선 피팅 with Least Squares\n",
    "\n",
    "**직선 피팅:**\n",
    "- 목적 함수: minimize $Σ(y_i - ax_i - b)²$\n",
    "- 정규 방정식을 통해 해석적 해 구함"
   ]
  },
  {
   "cell_type": "code",
   "execution_count": 36,
   "metadata": {},
   "outputs": [
    {
     "name": "stdout",
     "output_type": "stream",
     "text": [
      "=== 직선 피팅 결과 (Least Squares) ===\n",
      "실제 파라미터:   a=0.500, b=1.000\n",
      "추정된 파라미터: a=0.496, b=1.010\n",
      "오차:           a=0.004, b=0.010\n"
     ]
    }
   ],
   "source": [
    "from tutlibs.lidar.custom_lidar import custom_least_squares_line_fitting\n",
    "\n",
    "# 최소 자승법으로 직선 피팅\n",
    "estimated_line_params = custom_least_squares_line_fitting(line_pcd) # TODO: custom_least_squares_line_fitting 함수 구현\n",
    "\n",
    "# 결과 시각화\n",
    "visualize_line_fitting_result(line_pcd, estimated_line_params, text=f\"y={estimated_line_params[0]:.3f}x+{estimated_line_params[1]:.3f}\", text_coord=np.array([-10.0, 5.0, 0]))\n",
    "\n",
    "print(\"=== 직선 피팅 결과 (Least Squares) ===\")\n",
    "print(f\"실제 파라미터:   a={true_line_params[0]:.3f}, b={true_line_params[1]:.3f}\")\n",
    "print(f\"추정된 파라미터: a={estimated_line_params[0]:.3f}, b={estimated_line_params[1]:.3f}\")\n",
    "print(f\"오차:           a={abs(true_line_params[0]-estimated_line_params[0]):.3f}, b={abs(true_line_params[1]-estimated_line_params[1]):.3f}\")\n"
   ]
  },
  {
   "cell_type": "markdown",
   "metadata": {},
   "source": [
    "#### 5-1-3. 구 피팅 with Least Squares\n",
    "\n",
    "**구 피팅:**\n",
    "- 구 방정식을 선형 형태로 변환하여 해결\n",
    "- 최소 자승법으로 중심점과 반지름 동시 추정"
   ]
  },
  {
   "cell_type": "code",
   "execution_count": 37,
   "metadata": {},
   "outputs": [
    {
     "name": "stdout",
     "output_type": "stream",
     "text": [
      "[Open3D WARNING] GLFW Error: WGL: Failed to make context current: 요청한 변환 작업을 지원할 수 없습니다. \n",
      "[Open3D WARNING] GLFW Error: WGL: Failed to make context current: 핸들이 잘못되었습니다. \n",
      "[Open3D WARNING] GLFW Error: WGL: Failed to make context current: 요청한 변환 작업을 지원할 수 없습니다. \n",
      "[Open3D WARNING] GLFW Error: WGL: Failed to make context current: 핸들이 잘못되었습니다. \n",
      "[Open3D WARNING] GLFW Error: WGL: Failed to make context current: 요청한 변환 작업을 지원할 수 없습니다. \n",
      "[Open3D WARNING] GLFW Error: WGL: Failed to make context current: 핸들이 잘못되었습니다. \n",
      "[Open3D WARNING] GLFW Error: WGL: Failed to make context current: 요청한 변환 작업을 지원할 수 없습니다. \n",
      "=== 구 피팅 결과 (Least Squares) ===\n",
      "실제 중심점:   (2.000, 1.000, 0.500)\n",
      "추정된 중심점: (1.992, 1.002, 0.501)\n",
      "중심점 오차:   0.009\n",
      "\n",
      "실제 반지름:   3.000\n",
      "추정된 반지름: 3.008\n",
      "반지름 오차:   0.008\n"
     ]
    }
   ],
   "source": [
    "from tutlibs.lidar.custom_lidar import custom_least_squares_sphere_fitting\n",
    "\n",
    "# 최소 자승법으로 구 피팅\n",
    "estimated_center, estimated_radius = custom_least_squares_sphere_fitting(sphere_pcd) # TODO: custom_least_squares_sphere_fitting 함수 구현\n",
    "\n",
    "# 결과 시각화\n",
    "visualize_sphere_fitting_result(sphere_pcd, estimated_center, estimated_radius, text=f\"(x-{estimated_center[0]:.3f})^2 + (y-{estimated_center[1]:.3f})^2 + (z-{estimated_center[2]:.3f})^2 = {estimated_radius:.3f}^2\", text_coord=estimated_center+np.array([-estimated_radius*4, estimated_radius+0.1, 0]))\n",
    "\n",
    "print(\"=== 구 피팅 결과 (Least Squares) ===\")\n",
    "print(f\"실제 중심점:   ({true_sphere_center[0]:.3f}, {true_sphere_center[1]:.3f}, {true_sphere_center[2]:.3f})\")\n",
    "print(f\"추정된 중심점: ({estimated_center[0]:.3f}, {estimated_center[1]:.3f}, {estimated_center[2]:.3f})\")\n",
    "print(f\"중심점 오차:   {np.linalg.norm(true_sphere_center - estimated_center):.3f}\")\n",
    "print(f\"\")\n",
    "print(f\"실제 반지름:   {true_sphere_radius:.3f}\")\n",
    "print(f\"추정된 반지름: {estimated_radius:.3f}\")\n",
    "print(f\"반지름 오차:   {abs(true_sphere_radius - estimated_radius):.3f}\")\n"
   ]
  },
  {
   "cell_type": "markdown",
   "metadata": {},
   "source": [
    "### 5-2. RANSAC (Random Sample Consensus)\n",
    "RANSAC은 아웃라이어가 많은 데이터에서 강건한(robust) 피팅을 수행하는 알고리즘입니다.\n",
    "\n",
    "#### RANSAC 알고리즘 단계:\n",
    "1. **랜덤 샘플링**: 모델 추정에 필요한 최소 개수의 포인트를 랜덤 선택\n",
    "2. **모델 피팅**: 선택된 포인트들로 모델 추정\n",
    "3. **거리 계산**: 모든 포인트와 모델 사이의 거리 계산\n",
    "4. **Inlier 판정**: 임계값 이하의 거리를 가진 포인트들을 Inlier로 분류\n",
    "5. **최적 모델 선택**: 가장 많은 Inlier를 가진 모델을 선택\n",
    "6. **반복**: 위 과정을 지정된 횟수만큼 반복"
   ]
  },
  {
   "cell_type": "code",
   "execution_count": 38,
   "metadata": {},
   "outputs": [],
   "source": [
    "# RANSAC fitting 함수들 불러오기\n",
    "from tutlibs.lidar.custom_lidar import (\n",
    "    custom_ransac_sample_points, custom_fit_line_from_samples, custom_compute_line_distances,\n",
    "    custom_fit_sphere_from_samples, custom_compute_sphere_distances, custom_find_inliers_outliers\n",
    ")"
   ]
  },
  {
   "cell_type": "markdown",
   "metadata": {},
   "source": [
    "#### 5-2-1. 포인트 클라우드 생성\n",
    "노이즈 뿐만 아니라 Outlier도 포함된 직선과 구 형태의 포인트 클라우드를 생성합니다."
   ]
  },
  {
   "cell_type": "code",
   "execution_count": 39,
   "metadata": {},
   "outputs": [
    {
     "name": "stdout",
     "output_type": "stream",
     "text": [
      "실제 직선 방정식: y = 0.5x + 1.0\n",
      "생성된 포인트 개수: 1000\n"
     ]
    }
   ],
   "source": [
    "# 직선 파라미터 설정: y = ax + b\n",
    "true_line_params = np.array([0.5, 1.0])  # a=0.5, b=1.0\n",
    "print(f\"실제 직선 방정식: y = {true_line_params[0]}x + {true_line_params[1]}\")\n",
    "\n",
    "# 직선 포인트 클라우드 생성\n",
    "line_pcd = create_line_pcd(\n",
    "    line_params=true_line_params,\n",
    "    num_points=1000,\n",
    "    noise_std=0.3,      # 가우시안 노이즈 표준편차\n",
    "    outlier_ratio=0.2  # 아웃라이어 비율 (20%)\n",
    ")\n",
    "\n",
    "# 생성된 포인트 클라우드 시각화\n",
    "print(f\"생성된 포인트 개수: {len(line_pcd.points)}\")\n",
    "o3d.visualization.draw_geometries([line_pcd], window_name=\"Straight point cloud with noise\")"
   ]
  },
  {
   "cell_type": "code",
   "execution_count": 40,
   "metadata": {},
   "outputs": [
    {
     "name": "stdout",
     "output_type": "stream",
     "text": [
      "실제 구 방정식: (x-2.0)² + (y-1.0)² + (z-0.5)² = 3.0²\n",
      "생성된 포인트 개수: 1500\n"
     ]
    }
   ],
   "source": [
    "# 구 파라미터 설정\n",
    "true_sphere_center = np.array([2.0, 1.0, 0.5])  # 중심점 (cx, cy, cz)\n",
    "true_sphere_radius = 3.0                          # 반지름\n",
    "print(f\"실제 구 방정식: (x-{true_sphere_center[0]})² + (y-{true_sphere_center[1]})² + (z-{true_sphere_center[2]})² = {true_sphere_radius}²\")\n",
    "\n",
    "# 구 포인트 클라우드 생성\n",
    "sphere_pcd = create_sphere_pcd(\n",
    "    sphere_center=true_sphere_center,\n",
    "    radius=true_sphere_radius,\n",
    "    num_points=1500,\n",
    "    noise_std=0.15,      # 가우시안 노이즈 표준편차\n",
    "    outlier_ratio=0.2  # 아웃라이어 비율 (20%)\n",
    ")\n",
    "\n",
    "# 생성된 포인트 클라우드 시각화\n",
    "print(f\"생성된 포인트 개수: {len(sphere_pcd.points)}\")\n",
    "o3d.visualization.draw_geometries([sphere_pcd], window_name=\"Sphere point cloud with noise\")"
   ]
  },
  {
   "cell_type": "markdown",
   "metadata": {},
   "source": [
    "#### 5-2-2. Outlier가 존재하는 경우의 직선/구 피팅 with Least Squares"
   ]
  },
  {
   "cell_type": "code",
   "execution_count": 41,
   "metadata": {},
   "outputs": [],
   "source": [
    "# 최소 자승법으로 직선 피팅\n",
    "ls_line_params = custom_least_squares_line_fitting(line_pcd)\n",
    "\n",
    "# 결과 시각화\n",
    "visualize_line_fitting_result(line_pcd, ls_line_params)"
   ]
  },
  {
   "cell_type": "code",
   "execution_count": 42,
   "metadata": {},
   "outputs": [],
   "source": [
    "# 최소 자승법으로 구 피팅\n",
    "ls_center, ls_radius = custom_least_squares_sphere_fitting(sphere_pcd)\n",
    "\n",
    "# 최종 결과 시각화\n",
    "visualize_sphere_fitting_result(sphere_pcd, ls_center, ls_radius)"
   ]
  },
  {
   "cell_type": "markdown",
   "metadata": {},
   "source": [
    "Least Square의 경우, Outlier를 포함한 모든 포인트를 사용하여 모델을 추정하기 때문에, 실제 Truth 값과의 차이를 충분히 줄일 수 없습니다.  \n",
    "\n",
    "아래의 코드를 작성하여 똑같은 데이터를 사용하였을 때, RANSAC을 사용하면 어떠한 결과를 얻을 수 있을 지 확인해보세요."
   ]
  },
  {
   "cell_type": "markdown",
   "metadata": {},
   "source": [
    "#### 5-2-3. 직선 피팅 with RANSAC"
   ]
  },
  {
   "cell_type": "code",
   "execution_count": 47,
   "metadata": {},
   "outputs": [],
   "source": [
    "from tutlibs.lidar.custom_lidar import visualize_sampled_points\n",
    "\n",
    "# RANSAC으로 직선 피팅\n",
    "max_iterations = 2000      # 최대 반복 횟수\n",
    "distance_threshold = 0.3   # 인라이어 판정 거리 임계값\n",
    "min_samples = 2            # 모델 추정에 필요한 최소 샘플 수\n",
    "\n",
    "best_line_params = None    # 최적 직선 파라미터\n",
    "best_inlier_indices = None # 최적 인라이어 인덱스들\n",
    "best_outlier_indices = None # 최적 아웃라이어 인덱스들\n",
    "max_inliers = 0            # 최대 인라이어 수\n",
    "\n",
    "for iteration in range(max_iterations):\n",
    "    try:\n",
    "        # 1. 랜덤 샘플링\n",
    "        sampled_points, sampled_indices = custom_ransac_sample_points(line_pcd, min_samples) # TODO: custom_ransac_sample_points 함수 구현\n",
    "        # 랜덤 샘플링 시각화\n",
    "        if iteration % 500 == 0:\n",
    "            visualize_sampled_points(\n",
    "                line_pcd, \n",
    "                sampled_indices, \n",
    "                f\"Iteration {iteration}: 1. Random Sampling\", \n",
    "                np.array([-10.0, 5.0, 0])\n",
    "            )\n",
    "        \n",
    "        # 2. 모델 피팅\n",
    "        line_params = custom_fit_line_from_samples(sampled_points) # TODO: custom_fit_line_from_samples 함수 구현\n",
    "        \n",
    "        # 3. 모든 포인트에 대한 거리 계산\n",
    "        distances = custom_compute_line_distances(line_pcd, line_params) # TODO: custom_compute_line_distances 함수 구현\n",
    "        \n",
    "        # 4. 인라이어/아웃라이어 분류\n",
    "        inlier_indices, outlier_indices = custom_find_inliers_outliers(distances, distance_threshold)\n",
    "        # 모델 피팅 & 인라이어/아웃라이어 분류 시각화\n",
    "        if iteration % 500 == 0:\n",
    "            visualize_line_fitting_result(\n",
    "                line_pcd,\n",
    "                line_params,\n",
    "                inlier_indices,\n",
    "                outlier_indices,\n",
    "                text=f\"Iteration {iteration}: 2. Model Fitting - 4. Inlier/Outlier Classification\",\n",
    "                text_coord=np.array([-10.0, 5.0, 0])\n",
    "            )\n",
    "        \n",
    "        # 5. 최적 모델 업데이트\n",
    "        if len(inlier_indices) > max_inliers: # TODO: inlier_indices 개수와 최대 인라이어 수 비교\n",
    "            max_inliers = len(inlier_indices)             # TODO: max_inliers 업데이트\n",
    "            best_line_params = line_params.copy()      # TODO: best_line_params 업데이트\n",
    "            best_inlier_indices = inlier_indices.copy()   # TODO: best_inlier_indices 업데이트\n",
    "            best_outlier_indices = outlier_indices.copy()  # TODO: best_outlier_indices 업데이트\n",
    "            \n",
    "    except (np.linalg.LinAlgError, ValueError):\n",
    "        # 수치적 불안정성이나 부족한 샘플로 인한 에러 무시\n",
    "        continue\n",
    "\n",
    "# RANSAC 결과 저장\n",
    "ransac_line_params = best_line_params\n",
    "ransac_inlier_indices = best_inlier_indices\n",
    "ransac_outlier_indices = best_outlier_indices"
   ]
  },
  {
   "cell_type": "code",
   "execution_count": 48,
   "metadata": {},
   "outputs": [
    {
     "name": "stdout",
     "output_type": "stream",
     "text": [
      "[Open3D WARNING] GLFW Error: WGL: Failed to make context current: 요청한 변환 작업을 지원할 수 없습니다. \n",
      "=== 직선 피팅 결과 (RANSAC) ===\n",
      "실제 파라미터:   a=0.500, b=1.000\n",
      "추정된 파라미터: a=0.506, b=0.977\n",
      "오차:           a=0.006, b=0.023\n",
      "\n",
      "전체 포인트 수: 1000\n",
      "인라이어 수:   561 (56.1%)\n",
      "아웃라이어 수: 439 (43.9%)\n"
     ]
    }
   ],
   "source": [
    "# 최종 결과 시각화 (인라이어는 초록색, 아웃라이어는 빨간색)\n",
    "visualize_line_fitting_result(line_pcd, ransac_line_params, ransac_inlier_indices, ransac_outlier_indices, text=f\"y={ransac_line_params[0]:.3f}x+{ransac_line_params[1]:.3f}\", text_coord=np.array([-10.0, 5.0, 0]))\n",
    "\n",
    "print(\"=== 직선 피팅 결과 (RANSAC) ===\")\n",
    "print(f\"실제 파라미터:   a={true_line_params[0]:.3f}, b={true_line_params[1]:.3f}\")\n",
    "print(f\"추정된 파라미터: a={ransac_line_params[0]:.3f}, b={ransac_line_params[1]:.3f}\")\n",
    "print(f\"오차:           a={abs(true_line_params[0]-ransac_line_params[0]):.3f}, b={abs(true_line_params[1]-ransac_line_params[1]):.3f}\")\n",
    "print(f\"\")\n",
    "print(f\"전체 포인트 수: {len(line_pcd.points)}\")\n",
    "print(f\"인라이어 수:   {len(ransac_inlier_indices)} ({len(ransac_inlier_indices)/len(line_pcd.points)*100:.1f}%)\")\n",
    "print(f\"아웃라이어 수: {len(ransac_outlier_indices)} ({len(ransac_outlier_indices)/len(line_pcd.points)*100:.1f}%)\")"
   ]
  },
  {
   "cell_type": "markdown",
   "metadata": {},
   "source": [
    "#### 5-2-4. 구 피팅 with RANSAC"
   ]
  },
  {
   "cell_type": "code",
   "execution_count": 50,
   "metadata": {},
   "outputs": [],
   "source": [
    "# RANSAC으로 구구 피팅\n",
    "max_iterations = 2000      # 최대 반복 횟수\n",
    "distance_threshold = 0.4   # 인라이어 판정 거리 임계값\n",
    "min_samples = 4            # 모델 추정에 필요한 최소 샘플 수\n",
    "\n",
    "best_center = None         # 최적 중심점\n",
    "best_radius = None         # 최적 반지름\n",
    "best_inlier_indices = None # 최적 인라이어 인덱스들\n",
    "best_outlier_indices = None # 최적 아웃라이어 인덱스들\n",
    "max_inliers = 0            # 최대 인라이어 수\n",
    "\n",
    "for iteration in range(max_iterations):\n",
    "    try:\n",
    "        # 1. 랜덤 샘플링\n",
    "        sampled_points, sampled_indices = custom_ransac_sample_points(sphere_pcd, min_samples) # TODO: custom_ransac_sample_points 함수 구현\n",
    "        # 랜덤 샘플링 시각화\n",
    "        if iteration % 500 == 0:\n",
    "            visualize_sampled_points(\n",
    "                sphere_pcd, \n",
    "                sampled_indices, \n",
    "                f\"Iteration {iteration}: 1. Random Sampling\", \n",
    "                np.array([-10.0, 5.0, 0])\n",
    "            )\n",
    "        \n",
    "        # 2. 모델 피팅\n",
    "        center, radius = custom_fit_sphere_from_samples(sampled_points) # TODO: custom_fit_sphere_from_samples 함수 구현\n",
    "        # 반지름이 너무 크거나 작은 경우 스킵\n",
    "        if radius < 0.1 or radius > 100:\n",
    "            continue\n",
    "        \n",
    "        # 3. 모든 포인트에 대한 거리 계산\n",
    "        distances = custom_compute_sphere_distances(sphere_pcd, center, radius) # TODO: custom_compute_sphere_distances 함수 구현\n",
    "        \n",
    "        # 4. 인라이어/아웃라이어 분류\n",
    "        inlier_indices, outlier_indices = custom_find_inliers_outliers(distances, distance_threshold)\n",
    "        # 모델 피팅 & 인라이어/아웃라이어 분류 시각화\n",
    "        if iteration % 500 == 0:\n",
    "            visualize_sphere_fitting_result(\n",
    "                sphere_pcd,\n",
    "                center,\n",
    "                radius,\n",
    "                inlier_indices,\n",
    "                outlier_indices,\n",
    "                text=f\"Iteration {iteration}: 2. Model Fitting - 4. Inlier/Outlier Classification\",\n",
    "                text_coord=np.array([-10.0, 5.0, 0])\n",
    "            )\n",
    "        \n",
    "        # 5. 최적 모델 업데이트\n",
    "        if len(inlier_indices) > max_inliers:  # TODO: inlier_indices 개수와 최대 인라이어 수 비교\n",
    "            max_inliers = len(inlier_indices)             # TODO: max_inliers 업데이트\n",
    "            best_center = center.copy()           # TODO: best_center 업데이트\n",
    "            best_radius = radius                  # TODO: best_radius 업데이트\n",
    "            best_inlier_indices = inlier_indices.copy()   # TODO: best_inlier_indices 업데이트\n",
    "            best_outlier_indices = outlier_indices.copy()  # TODO: best_outlier_indices 업데이트\n",
    "            \n",
    "    except (np.linalg.LinAlgError, ValueError):\n",
    "        # 수치적 불안정성이나 부족한 샘플로 인한 에러 무시\n",
    "        continue\n",
    "\n",
    "# RANSAC 결과 저장\n",
    "ransac_center = best_center\n",
    "ransac_radius = best_radius\n",
    "ransac_inlier_indices = best_inlier_indices\n",
    "ransac_outlier_indices = best_outlier_indices"
   ]
  },
  {
   "cell_type": "code",
   "execution_count": 51,
   "metadata": {},
   "outputs": [
    {
     "name": "stdout",
     "output_type": "stream",
     "text": [
      "=== 구 피팅 결과 (RANSAC) ===\n",
      "실제 중심점:   (2.000, 1.000, 0.500)\n",
      "추정된 중심점: (1.989, 1.046, 0.495)\n",
      "중심점 오차:   0.048\n",
      "\n",
      "실제 반지름:   3.000\n",
      "추정된 반지름: 3.018\n",
      "반지름 오차:   0.018\n",
      "\n",
      "전체 포인트 수: 1500\n",
      "인라이어 수:   1201 (80.1%)\n",
      "아웃라이어 수: 299 (19.9%)\n"
     ]
    }
   ],
   "source": [
    "# 결과 시각화 (인라이어는 초록색, 아웃라이어는 빨간색)\n",
    "visualize_sphere_fitting_result(sphere_pcd, ransac_center, ransac_radius, ransac_inlier_indices, ransac_outlier_indices, text=f\"(x-{ransac_center[0]:.3f})^2 + (y-{ransac_center[1]:.3f})^2 + (z-{ransac_center[2]:.3f})^2 = {ransac_radius:.3f}^2\", text_coord=ransac_center+np.array([-ransac_radius*4, ransac_radius+0.1, 0]))\n",
    "\n",
    "print(\"=== 구 피팅 결과 (RANSAC) ===\")\n",
    "print(f\"실제 중심점:   ({true_sphere_center[0]:.3f}, {true_sphere_center[1]:.3f}, {true_sphere_center[2]:.3f})\")\n",
    "print(f\"추정된 중심점: ({ransac_center[0]:.3f}, {ransac_center[1]:.3f}, {ransac_center[2]:.3f})\")\n",
    "print(f\"중심점 오차:   {np.linalg.norm(true_sphere_center - ransac_center):.3f}\")\n",
    "print(f\"\")\n",
    "print(f\"실제 반지름:   {true_sphere_radius:.3f}\")\n",
    "print(f\"추정된 반지름: {ransac_radius:.3f}\")\n",
    "print(f\"반지름 오차:   {abs(true_sphere_radius - ransac_radius):.3f}\")\n",
    "print(f\"\")\n",
    "print(f\"전체 포인트 수: {len(sphere_pcd.points)}\")\n",
    "print(f\"인라이어 수:   {len(ransac_inlier_indices)} ({len(ransac_inlier_indices)/len(sphere_pcd.points)*100:.1f}%)\")\n",
    "print(f\"아웃라이어 수: {len(ransac_outlier_indices)} ({len(ransac_outlier_indices)/len(sphere_pcd.points)*100:.1f}%)\")"
   ]
  },
  {
   "cell_type": "markdown",
   "metadata": {},
   "source": [
    "### 5-3. 비교 분석\n",
    "Least Squares와 RANSAC 방법의 성능을 비교해봅시다."
   ]
  },
  {
   "cell_type": "code",
   "execution_count": 52,
   "metadata": {},
   "outputs": [
    {
     "name": "stdout",
     "output_type": "stream",
     "text": [
      "=== 직선 피팅 방법 비교 ===\n",
      "방법\t\t\ta 오차\t\tb 오차\t\t전체 RMS 오차\n",
      "--------------------------------------------------\n",
      "Least Squares\t\t0.2600\t\t0.2786\t\t0.2695\n",
      "RANSAC\t\t\t0.0063\t\t0.0234\t\t0.0171\n",
      "\n",
      "=== 구 피팅 방법 비교 ===\n",
      "방법\t\t\t중심점 오차\t반지름 오차\n",
      "--------------------------------------------------\n",
      "Least Squares\t\t0.4793\t\t1.4675\n",
      "RANSAC\t\t\t0.0479\t\t0.0184\n"
     ]
    }
   ],
   "source": [
    "print(\"=== 직선 피팅 방법 비교 ===\")\n",
    "print(\"방법\\t\\t\\ta 오차\\t\\tb 오차\\t\\t전체 RMS 오차\")\n",
    "print(\"-\" * 50)\n",
    "\n",
    "# Least Squares 오차\n",
    "ls_line_errors = np.abs(true_line_params - ls_line_params)\n",
    "ls_line_rms = np.sqrt(np.mean(ls_line_errors**2))\n",
    "print(f\"Least Squares\\t\\t{ls_line_errors[0]:.4f}\\t\\t{ls_line_errors[1]:.4f}\\t\\t{ls_line_rms:.4f}\")\n",
    "\n",
    "# RANSAC 오차\n",
    "ransac_line_errors = np.abs(true_line_params - ransac_line_params)\n",
    "ransac_line_rms = np.sqrt(np.mean(ransac_line_errors**2))\n",
    "print(f\"RANSAC\\t\\t\\t{ransac_line_errors[0]:.4f}\\t\\t{ransac_line_errors[1]:.4f}\\t\\t{ransac_line_rms:.4f}\")\n",
    "\n",
    "print(\"\\n=== 구 피팅 방법 비교 ===\")\n",
    "print(\"방법\\t\\t\\t중심점 오차\\t반지름 오차\")\n",
    "print(\"-\" * 50)\n",
    "\n",
    "# Least Squares 오차\n",
    "ls_center_error = np.linalg.norm(true_sphere_center - ls_center)\n",
    "ls_radius_error = abs(true_sphere_radius - ls_radius)\n",
    "print(f\"Least Squares\\t\\t{ls_center_error:.4f}\\t\\t{ls_radius_error:.4f}\")\n",
    "\n",
    "# RANSAC 오차\n",
    "ransac_center_error = np.linalg.norm(true_sphere_center - ransac_center)\n",
    "ransac_radius_error = abs(true_sphere_radius - ransac_radius)\n",
    "print(f\"RANSAC\\t\\t\\t{ransac_center_error:.4f}\\t\\t{ransac_radius_error:.4f}\")\n"
   ]
  }
 ],
 "metadata": {
  "kernelspec": {
   "display_name": "open3d-env",
   "language": "python",
   "name": "python3"
  },
  "language_info": {
   "codemirror_mode": {
    "name": "ipython",
    "version": 3
   },
   "file_extension": ".py",
   "mimetype": "text/x-python",
   "name": "python",
   "nbconvert_exporter": "python",
   "pygments_lexer": "ipython3",
   "version": "3.7.16"
  },
  "orig_nbformat": 4
 },
 "nbformat": 4,
 "nbformat_minor": 2
}
