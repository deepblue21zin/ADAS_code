{
 "cells": [
  {
   "cell_type": "markdown",
   "metadata": {},
   "source": [
    "<!--\n",
    " * @file        5_radar.ipynb\n",
    " * @brief       This notebook provides Radar data processing and analysis.\n",
    " *\n",
    " * @authors     Jaehwan Lee (idljh5529@gmail.com)\n",
    " *\n",
    " * @date        2025-08-12 Released by AI Lab, Hanyang University\n",
    " *\n",
    "-->\n",
    "\n",
    "# 5. Radar (RAdio Detection And Ranging)\n",
    "\n",
    "이번 실습에서는 실제 취득한 Radar 포인트 클라우드 데이터를 분석해보고, 해당 데이터들을 처리하는 몇 가지 방법에 대해 실습을 진행합니다.\n",
    "\n",
    "## 실습 목표\n",
    "1. 실제 취득한 Radar 데이터 시각화 및 분석\n",
    "2. Noise Filtering 실습\n",
    "3. Transformation 실습\n",
    "4. Clustering 실습"
   ]
  },
  {
   "cell_type": "code",
   "execution_count": 5,
   "metadata": {},
   "outputs": [
    {
     "name": "stdout",
     "output_type": "stream",
     "text": [
      "The autoreload extension is already loaded. To reload it, use:\n",
      "  %reload_ext autoreload\n"
     ]
    }
   ],
   "source": [
    "# 외부에 정의된 파이썬 모듈(.py 파일)을 수정할 때마다 매번 커널을 재시작하지 않아도 변경 사항이 자동으로 반영되도록 설정\n",
    "%load_ext autoreload\n",
    "%autoreload 2"
   ]
  },
  {
   "cell_type": "code",
   "execution_count": 6,
   "metadata": {},
   "outputs": [
    {
     "name": "stdout",
     "output_type": "stream",
     "text": [
      "Open3D version: 0.17.0\n"
     ]
    }
   ],
   "source": [
    "import open3d as o3d\n",
    "import numpy as np\n",
    "import matplotlib.pyplot as plt\n",
    "from tutlibs.radar.custom_radar import RadarDataLoader, RadarVisualizer\n",
    "import time\n",
    "import copy\n",
    "\n",
    "# Check Open3D version\n",
    "print(f\"Open3D version: {o3d.__version__}\")"
   ]
  },
  {
   "cell_type": "markdown",
   "metadata": {},
   "source": [
    "## 1. Radar 데이터 시각화 및 분석\n",
    "\n",
    "실제 여러 가지 Radar를 통해 취득한 포인트 클라우드 데이터를 시각화하고 분석하겠습니다."
   ]
  },
  {
   "cell_type": "markdown",
   "metadata": {},
   "source": [
    "### 1-1. 3D Radar\n",
    "\n",
    "일반적인 radar는 Range, azimuth 값을 통해 **x**, **y** 값과 **doppler velocity** 값을 출력합니다."
   ]
  },
  {
   "cell_type": "code",
   "execution_count": 7,
   "metadata": {},
   "outputs": [
    {
     "name": "stdout",
     "output_type": "stream",
     "text": [
      "📡 6개의 레이더 PCD 파일을 로딩 중...\n",
      "로딩 진행률: 1/6 (16.7%)\n",
      "   velocity field: ✅\n",
      "✅ 6개의 포인트클라우드 로딩 완료\n",
      "📊 로딩된 데이터:\n",
      "   - 포인트클라우드: 6개 프레임\n"
     ]
    }
   ],
   "source": [
    "# 데이터 로더 초기화\n",
    "data_loader = RadarDataLoader()\n",
    "\n",
    "# 포인트클라우드 데이터 로딩\n",
    "pcd_folder_path = \"./../data/radar_pcd\"  # 실제 PCD 파일들이 있는 폴더\n",
    "point_clouds = data_loader.load_radar_pcd_files(pcd_folder_path)\n",
    "\n",
    "print(f\"📊 로딩된 데이터:\")\n",
    "print(f\"   - 포인트클라우드: {len(point_clouds)}개 프레임\")"
   ]
  },
  {
   "cell_type": "code",
   "execution_count": 9,
   "metadata": {},
   "outputs": [
    {
     "name": "stdout",
     "output_type": "stream",
     "text": [
      "=== 첫 번째 데이터 시각화 ===\n",
      "첫 번째 데이터를 Open3D 창에서 확인하세요...\n",
      "📊 프레임 0 시각화 중...\n",
      "[Open3D WARNING] GLFW Error: WGL: Failed to make context current: 요청한 변환 작업을 지원할 수 없습니다. \n",
      "[Open3D WARNING] GLFW Error: WGL: Failed to make context current: 요청한 변환 작업을 지원할 수 없습니다. \n",
      "\n",
      "첫 번째 프레임 정보:\n",
      "   - 포인트 수: 64\n",
      "   - 컬러 정보: 있음\n"
     ]
    }
   ],
   "source": [
    "# 1-2. 첫 번째 데이터 시각화\n",
    "print(\"=== 첫 번째 데이터 시각화 ===\")\n",
    "\n",
    "# 레이더 시각화 클래스 초기화\n",
    "radar_visualizer = RadarVisualizer()\n",
    "\n",
    "# 첫 번째 데이터 시각화\n",
    "if point_clouds:\n",
    "    print(\"첫 번째 데이터를 Open3D 창에서 확인하세요...\")\n",
    "    radar_visualizer.visualize_single_frame(point_clouds[0], frame_idx=0, visualize_coordinate_frame=False)\n",
    "    \n",
    "    # 첫 번째 프레임 정보 출력\n",
    "    first_pcd = point_clouds[0]\n",
    "    print(f\"\\n첫 번째 프레임 정보:\")\n",
    "    print(f\"   - 포인트 수: {len(first_pcd.points)}\")\n",
    "    print(f\"   - 컬러 정보: {'있음' if first_pcd.has_colors() else '없음'}\")\n",
    "else:\n",
    "    print(\"⚠️ 로딩된 포인트클라우드가 없습니다.\")"
   ]
  },
  {
   "cell_type": "markdown",
   "metadata": {},
   "source": [
    "### 1-2. 4D Radar\n",
    "\n",
    "4D radar는 **x**, **y**, **doppler velocity** 값 뿐만 아니라, elevation 속성을 통한 **z**축의 값도 출력합니다."
   ]
  },
  {
   "cell_type": "code",
   "execution_count": 11,
   "metadata": {},
   "outputs": [
    {
     "name": "stdout",
     "output_type": "stream",
     "text": [
      "4d imaging radar 데이터를 Open3D 창에서 확인하세요...\n",
      "📊 프레임 4 시각화 중...\n",
      "[Open3D WARNING] GLFW Error: WGL: Failed to make context current: 핸들이 잘못되었습니다. \n",
      "[Open3D WARNING] GLFW Error: WGL: Failed to make context current: 핸들이 잘못되었습니다. \n",
      "[Open3D WARNING] GLFW Error: WGL: Failed to make context current: 핸들이 잘못되었습니다. \n",
      "\n",
      "다섯 번째 프레임 정보:\n",
      "   - 포인트 수: 241\n",
      "   - 컬러 정보: 있음\n"
     ]
    }
   ],
   "source": [
    "# 4d imaging radar 데이터 시각화\n",
    "if point_clouds:\n",
    "    print(\"4d imaging radar 데이터를 Open3D 창에서 확인하세요...\")\n",
    "    radar_visualizer.visualize_single_frame(point_clouds[4], frame_idx=4)\n",
    "    \n",
    "    # 다섯 번째 프레임 정보 출력\n",
    "    fifth_pcd = point_clouds[4]\n",
    "    print(f\"\\n다섯 번째 프레임 정보:\")\n",
    "    print(f\"   - 포인트 수: {len(fifth_pcd.points)}\")\n",
    "    print(f\"   - 컬러 정보: {'있음' if fifth_pcd.has_colors() else '없음'}\")\n",
    "else:\n",
    "    print(\"⚠️ 로딩된 포인트클라우드가 없습니다.\")"
   ]
  },
  {
   "cell_type": "code",
   "execution_count": 12,
   "metadata": {},
   "outputs": [
    {
     "name": "stdout",
     "output_type": "stream",
     "text": [
      "[Open3D WARNING] GLFW Error: WGL: Failed to make context current: 핸들이 잘못되었습니다. \n",
      "[Open3D WARNING] GLFW Error: WGL: Failed to make context current: 요청한 변환 작업을 지원할 수 없습니다. \n",
      "[Open3D WARNING] GLFW Error: WGL: Failed to make context current: 요청한 변환 작업을 지원할 수 없습니다. \n"
     ]
    }
   ],
   "source": [
    "# VLP 32C LiDAR 와 비교\n",
    "vlp32c_pcd = o3d.io.read_point_cloud(\"../data/lidar_pcd/vlp32c_1679319638860873.pcd\") # AILAB point cloud data\n",
    "vlp32c_pcd_colored = vlp32c_pcd.paint_uniform_color([0, 1, 0])\n",
    "radar_pcd_colored = point_clouds[4].paint_uniform_color([0, 0, 1])\n",
    "\n",
    "# 두 포인트 클라우드를 시각화\n",
    "o3d.visualization.draw_geometries([vlp32c_pcd_colored, radar_pcd_colored])"
   ]
  },
  {
   "cell_type": "markdown",
   "metadata": {},
   "source": [
    "## 2. Noise Filtering (노이즈 필터링)\n",
    "\n",
    "포인트 클라우드의 Noise Filtering은 포인트 클라우드에서 불필요한 노이즈 포인트들을 제거하는 것을 의미합니다. Noise Filtering을 사용하는 이유는 다음과 같습니다:\n",
    "\n",
    "- **데이터 품질 향상**: 스캐닝 과정에서 발생하는 노이즈, 센서 오류, 반사 문제 등으로 인한 불정확한 점들을 제거하여 데이터의 신뢰성을 높입니다.\n",
    "- **처리 복잡도 감소**: 노이즈 포인트들은 후속 처리 알고리즘에 방해가 될 수 있습니다. 이를 제거하면 알고리즘 성능을 향상시킬 수 있습니다.\n",
    "- **메모리 효율성**: 불필요한 점들을 제거하여 메모리 사용량을 줄이고 처리 속도를 향상시킵니다.\n",
    "\n",
    "이 절에서는 다음과 같은 노이즈 필터링 방법들을 소개합니다:\n",
    "- **Statistical Outlier Removal** (통계적 이상점 제거)\n",
    "  - 이웃 거리 분포 기반 필터링\n",
    "  - 직접 구현한 KD-Tree 구현 사용\n",
    "  - K-NN search 를 이용한 방법\n",
    "- **Radius Outlier Removal** (반지름 기반 이상점 제거)\n",
    "  - 반지름 내 이웃 개수 기반 필터링\n",
    "  - 직접 구현한 KD-Tree 구현 사용\n",
    "  - Radius search 를 이용한 방법\n",
    "- **Open3D 내장 함수와의 비교**"
   ]
  },
  {
   "cell_type": "markdown",
   "metadata": {},
   "source": [
    "### 2-1. Point cloud에 노이즈 추가"
   ]
  },
  {
   "cell_type": "code",
   "execution_count": 14,
   "metadata": {},
   "outputs": [
    {
     "name": "stdout",
     "output_type": "stream",
     "text": [
      "Noisy Point Cloud: 4706 points\n",
      "Added 613 outlier points\n",
      "\n",
      "=== 노이즈가 추가된 포인트 클라우드 시각화 ===\n"
     ]
    }
   ],
   "source": [
    "def add_noise_to_pointcloud(pcd, outlier_ratio=0.1, noise_std=0.05):\n",
    "    \"\"\"\n",
    "    포인트 클라우드에 노이즈 추가\n",
    "    \n",
    "    Args:\n",
    "        pcd: 원본 포인트 클라우드\n",
    "        outlier_ratio: 전체 포인트 중 아웃라이어 포인트 비율 (0.0~1.0)\n",
    "        noise_std: 가우시안 노이즈의 표준편차\n",
    "    \n",
    "    Returns:\n",
    "        noisy_pcd: 노이즈가 추가된 포인트 클라우드\n",
    "    \"\"\"\n",
    "    points = np.asarray(pcd.points)\n",
    "    n_points = len(points)\n",
    "    \n",
    "    # 1. 기존 포인트에 가우시안 노이즈 추가\n",
    "    noisy_points = points + np.random.normal(0, noise_std, points.shape)\n",
    "    \n",
    "    # 2. 완전한 아웃라이어 포인트 추가\n",
    "    n_outliers = int(n_points * outlier_ratio)\n",
    "    if n_outliers > 0:\n",
    "        # 포인트 클라우드 바운딩 박스 계산\n",
    "        min_bound = points.min(axis=0)\n",
    "        max_bound = points.max(axis=0)\n",
    "        \n",
    "        # 바운딩 박스 확장하여 아웃라이어 생성\n",
    "        range_expand = (max_bound - min_bound) * 0.5\n",
    "        outlier_min = min_bound - range_expand\n",
    "        outlier_max = max_bound + range_expand\n",
    "        \n",
    "        # 랜덤 아웃라이어 포인트 생성\n",
    "        outliers = np.random.uniform(outlier_min, outlier_max, (n_outliers, 3))\n",
    "        \n",
    "        # 기존 포인트와 아웃라이어 결합\n",
    "        all_points = np.vstack([noisy_points, outliers])\n",
    "    else:\n",
    "        all_points = noisy_points\n",
    "    \n",
    "    # 새로운 포인트 클라우드 생성\n",
    "    noisy_pcd = o3d.geometry.PointCloud()\n",
    "    noisy_pcd.points = o3d.utility.Vector3dVector(all_points)\n",
    "    \n",
    "    return noisy_pcd\n",
    "\n",
    "pcd_clean = o3d.io.read_point_cloud(\"./../data/lidar_pcd/bunny_pc.ply\")\n",
    "\n",
    "# 노이즈가 추가된 포인트 클라우드 생성\n",
    "np.random.seed(42)  # 재현 가능한 결과를 위해\n",
    "pcd_noisy = add_noise_to_pointcloud(pcd_clean, outlier_ratio=0.15, noise_std=0.02)\n",
    "print(\"Noisy Point Cloud:\", len(pcd_noisy.points), \"points\")\n",
    "print(f\"Added {len(pcd_noisy.points) - len(pcd_clean.points)} outlier points\")\n",
    "\n",
    "# 노이즈가 추가된 포인트 클라우드 시각화\n",
    "print(\"\\n=== 노이즈가 추가된 포인트 클라우드 시각화 ===\")\n",
    "# Visualize bunny point cloud\n",
    "o3d.visualization.draw_geometries([pcd_noisy], \n",
    "                                    window_name=\"Bunny Point Cloud\",\n",
    "                                    width=800, height=600)"
   ]
  },
  {
   "cell_type": "code",
   "execution_count": 15,
   "metadata": {},
   "outputs": [
    {
     "name": "stdout",
     "output_type": "stream",
     "text": [
      "=== 원본 vs 노이즈 비교 (나란히 배치) ===\n",
      "초록색: 원본 (깨끗한 데이터)\n",
      "빨간색: 노이즈가 추가된 데이터\n"
     ]
    }
   ],
   "source": [
    "### 원본과 노이즈 포인트 클라우드 비교 시각화 ###\n",
    "pcd_clean_copy = o3d.geometry.PointCloud(pcd_clean)\n",
    "pcd_noisy_copy = o3d.geometry.PointCloud(pcd_noisy)\n",
    "\n",
    "# 색상 설정으로 구분\n",
    "pcd_clean_copy.paint_uniform_color([0.0, 0.8, 0.0])  # 초록색 (깨끗한 데이터)\n",
    "pcd_noisy_copy.paint_uniform_color([0.8, 0.0, 0.0])  # 빨간색 (노이즈 포함)\n",
    "\n",
    "# translation으로 나란히 배치\n",
    "pcd_noisy_copy.translate(np.array([1, 0, 0]))\n",
    "\n",
    "print(\"=== 원본 vs 노이즈 비교 (나란히 배치) ===\")\n",
    "print(\"초록색: 원본 (깨끗한 데이터)\")\n",
    "print(\"빨간색: 노이즈가 추가된 데이터\")\n",
    "\n",
    "pcd_combined = pcd_clean_copy + pcd_noisy_copy\n",
    "o3d.visualization.draw_geometries([pcd_combined], \n",
    "                                    window_name=\"Bunny Point Cloud\",\n",
    "                                    width=800, height=600)"
   ]
  },
  {
   "cell_type": "markdown",
   "metadata": {},
   "source": [
    "### 2-2. Statistical Outlier Removal (통계적 이상점 제거) \n",
    "(KNN search를 이용한 방법)\n",
    "\n",
    "Statistical Outlier Removal 방식은 각 포인트의 k-최근접 이웃들과의 평균 거리를 계산하고, 전체 포인트들의 거리 분포에서 통계적으로 벗어나는 점들을 제거합니다.\n",
    "\n",
    "**알고리즘 원리:**\n",
    "1. 각 점에 대해 k개의 최근접 이웃을 찾습니다 (KD-Tree 사용)\n",
    "2. 각 점과 이웃들 간의 평균 거리를 계산합니다\n",
    "3. 모든 평균 거리의 전역 평균(μ)과 표준편차(σ)를 계산합니다\n",
    "4. μ ± (std_ratio × σ) 범위를 벗어나는 점들을 아웃라이어로 분류합니다\n",
    "5. 아웃라이어를 제거한 깨끗한 포인트 클라우드를 반환합니다\n",
    "\n",
    "이 방법은 우리가 구현한 커스텀 KD-Tree를 사용하여 교육 목적에 맞게 각 단계를 명확히 보여줍니다.\n"
   ]
  },
  {
   "cell_type": "code",
   "execution_count": 16,
   "metadata": {},
   "outputs": [
    {
     "name": "stdout",
     "output_type": "stream",
     "text": [
      "커스텀 Statistical Outlier Removal 모듈이 성공적으로 로드되었습니다.\n"
     ]
    }
   ],
   "source": [
    "# for statistical outlier removal using custom KD-Tree\n",
    "from tutlibs.radar.custom_radar import (\n",
    "    StatisticalOutlierRemoval\n",
    ")\n",
    "\n",
    "print(\"커스텀 Statistical Outlier Removal 모듈이 성공적으로 로드되었습니다.\")\n"
   ]
  },
  {
   "cell_type": "code",
   "execution_count": 19,
   "metadata": {},
   "outputs": [
    {
     "name": "stdout",
     "output_type": "stream",
     "text": [
      "=== 커스텀 KD-Tree를 사용한 Statistical Outlier Removal ===\n",
      "입력 포인트 수: 4706\n",
      "파라미터: nb_neighbors=20, std_ratio=0.5\n",
      "Applying Statistical Outlier Removal...\n",
      "Parameters: nb_neighbors=20, std_ratio=0.5\n",
      "Input points: 4706\n",
      "Computing mean distances for 4706 points using custom KD-Tree...\n",
      "Building KD-Tree structure...\n",
      "KD-Tree built successfully in 0.0020s. Starting k-NN search for each point...\n",
      "  Processed 100/4706 points (2.1%)\n",
      "  Processed 200/4706 points (4.2%)\n",
      "  Processed 300/4706 points (6.4%)\n",
      "  Processed 400/4706 points (8.5%)\n",
      "  Processed 500/4706 points (10.6%)\n",
      "  Processed 600/4706 points (12.7%)\n",
      "  Processed 700/4706 points (14.9%)\n",
      "  Processed 800/4706 points (17.0%)\n",
      "  Processed 900/4706 points (19.1%)\n",
      "  Processed 1000/4706 points (21.2%)\n",
      "  Processed 1100/4706 points (23.4%)\n",
      "  Processed 1200/4706 points (25.5%)\n",
      "  Processed 1300/4706 points (27.6%)\n",
      "  Processed 1400/4706 points (29.7%)\n",
      "  Processed 1500/4706 points (31.9%)\n",
      "  Processed 1600/4706 points (34.0%)\n",
      "  Processed 1700/4706 points (36.1%)\n",
      "  Processed 1800/4706 points (38.2%)\n",
      "  Processed 1900/4706 points (40.4%)\n",
      "  Processed 2000/4706 points (42.5%)\n",
      "  Processed 2100/4706 points (44.6%)\n",
      "  Processed 2200/4706 points (46.7%)\n",
      "  Processed 2300/4706 points (48.9%)\n",
      "  Processed 2400/4706 points (51.0%)\n",
      "  Processed 2500/4706 points (53.1%)\n",
      "  Processed 2600/4706 points (55.2%)\n",
      "  Processed 2700/4706 points (57.4%)\n",
      "  Processed 2800/4706 points (59.5%)\n",
      "  Processed 2900/4706 points (61.6%)\n",
      "  Processed 3000/4706 points (63.7%)\n",
      "  Processed 3100/4706 points (65.9%)\n",
      "  Processed 3200/4706 points (68.0%)\n",
      "  Processed 3300/4706 points (70.1%)\n",
      "  Processed 3400/4706 points (72.2%)\n",
      "  Processed 3500/4706 points (74.4%)\n",
      "  Processed 3600/4706 points (76.5%)\n",
      "  Processed 3700/4706 points (78.6%)\n",
      "  Processed 3800/4706 points (80.7%)\n",
      "  Processed 3900/4706 points (82.9%)\n",
      "  Processed 4000/4706 points (85.0%)\n",
      "  Processed 4100/4706 points (87.1%)\n",
      "  Processed 4200/4706 points (89.2%)\n",
      "  Processed 4300/4706 points (91.4%)\n",
      "  Processed 4400/4706 points (93.5%)\n",
      "  Processed 4500/4706 points (95.6%)\n",
      "  Processed 4600/4706 points (97.7%)\n",
      "  Processed 4700/4706 points (99.9%)\n",
      "Mean distance computation completed in 0.1282s.\n",
      "Average time per k-NN search: 0.027ms\n",
      "Distance range: [0.0295, 0.5146]\n",
      "Global mean distance: 0.0766\n",
      "Global std distance: 0.0812\n",
      "Threshold range: [0.0000, 0.1172]\n",
      "Outliers detected: 560\n",
      "Inliers remaining: 4146\n",
      "Outlier ratio: 11.90%\n",
      "Processing time: 0.1302 seconds\n",
      "\n",
      "=== 필터링 결과 ===\n",
      "처리 시간: 0.1302초\n",
      "원본 포인트: 4706개\n",
      "필터링된 포인트: 4146개\n",
      "제거된 아웃라이어: 560개\n",
      "아웃라이어 비율: 11.90%\n"
     ]
    }
   ],
   "source": [
    "# 노이즈 포인트 클라우드를 원점으로 다시 이동 (이전 translation 되돌리기)\n",
    "pcd_noisy.translate(np.array([-1, 0, 0]))\n",
    "\n",
    "# 3D 포인트 클라우드를 NumPy 배열로 변환\n",
    "points_3d = np.asarray(pcd_noisy.points)\n",
    "\n",
    "print(\"=== 커스텀 KD-Tree를 사용한 Statistical Outlier Removal ===\")\n",
    "print(f\"입력 포인트 수: {len(points_3d)}\")\n",
    "\n",
    "# Statistical Outlier Removal 파라미터 설정\n",
    "nb_neighbors = 20\n",
    "std_ratio = 0.5\n",
    "\n",
    "print(f\"파라미터: nb_neighbors={nb_neighbors}, std_ratio={std_ratio}\")\n",
    "\n",
    "# 커스텀 Statistical Outlier Removal 적용\n",
    "filter_obj = StatisticalOutlierRemoval(nb_neighbors, std_ratio) # TODO: 커스텀 Statistical Outlier Removal 클래스 인스턴스의 인자 입력\n",
    "\n",
    "# 필터링 실행 (자세한 로그와 함께)\n",
    "start_time = time.time()\n",
    "filtered_points, outlier_points = filter_obj.filter_points_sor(points_3d, return_outliers=True) # TODO: 커스텀 Statistical Outlier Removal 클래스의 filter_points_sor 함수 완성\n",
    "processing_time = time.time() - start_time\n",
    "\n",
    "print(f\"\\n=== 필터링 결과 ===\")\n",
    "print(f\"처리 시간: {processing_time:.4f}초\")\n",
    "print(f\"원본 포인트: {len(points_3d)}개\")\n",
    "print(f\"필터링된 포인트: {len(filtered_points)}개\")\n",
    "print(f\"제거된 아웃라이어: {len(outlier_points)}개\")\n",
    "print(f\"아웃라이어 비율: {len(outlier_points)/len(points_3d)*100:.2f}%\")\n"
   ]
  },
  {
   "cell_type": "code",
   "execution_count": 20,
   "metadata": {},
   "outputs": [
    {
     "name": "stdout",
     "output_type": "stream",
     "text": [
      "\n",
      "=== Statistical Outlier Removal 결과 시각화 ===\n",
      "초록색: 필터링된 포인트 (인라이어)\n",
      "빨간색: 제거된 포인트 (아웃라이어)\n"
     ]
    }
   ],
   "source": [
    "# 3D 결과를 포인트 클라우드 객체로 변환\n",
    "pcd_filtered = o3d.geometry.PointCloud()\n",
    "pcd_filtered.points = o3d.utility.Vector3dVector(filtered_points)\n",
    "\n",
    "pcd_outliers = o3d.geometry.PointCloud()\n",
    "pcd_outliers.points = o3d.utility.Vector3dVector(outlier_points)\n",
    "\n",
    "# 색상 설정\n",
    "pcd_filtered.paint_uniform_color([0.0, 1.0, 0.0])  # 초록색 (인라이어)\n",
    "pcd_outliers.paint_uniform_color([1.0, 0.0, 0.0])   # 빨간색 (아웃라이어)\n",
    "\n",
    "### 필터링 결과 시각화 ###\n",
    "print(\"\\n=== Statistical Outlier Removal 결과 시각화 ===\")\n",
    "print(\"초록색: 필터링된 포인트 (인라이어)\")\n",
    "print(\"빨간색: 제거된 포인트 (아웃라이어)\")\n",
    "\n",
    "# 모든 포인트 함께 시각화\n",
    "pcd_result_combined = pcd_filtered + pcd_outliers\n",
    "o3d.visualization.draw_geometries([pcd_result_combined], \n",
    "                                    window_name=\"Statistical Outlier Removal Result\",\n",
    "                                    width=800, height=600)"
   ]
  },
  {
   "cell_type": "code",
   "execution_count": 21,
   "metadata": {},
   "outputs": [
    {
     "name": "stdout",
     "output_type": "stream",
     "text": [
      "\n",
      "=== 필터링 전후 비교 ===\n",
      "왼쪽 (빨간색): 필터링 전 (노이즈 포함)\n",
      "오른쪽 (초록색): 필터링 후 (깨끗한 데이터)\n",
      "[Open3D WARNING] GLFW Error: WGL: Failed to make context current: 요청한 변환 작업을 지원할 수 없습니다. \n"
     ]
    }
   ],
   "source": [
    "### 필터링 전후 비교 시각화 ###\n",
    "pcd_noisy_display = o3d.geometry.PointCloud(pcd_noisy)\n",
    "pcd_filtered_display = o3d.geometry.PointCloud(pcd_filtered)\n",
    "\n",
    "# translation으로 나란히 배치\n",
    "pcd_filtered_display.translate(np.array([2, 0, 0]))\n",
    "\n",
    "# 색상 설정\n",
    "pcd_noisy_display.paint_uniform_color([1, 0.3, 0.3])    # 붉은색 (노이즈 포함)\n",
    "pcd_filtered_display.paint_uniform_color([0.0, 0.8, 0.0]) # 초록색 (필터링됨)\n",
    "\n",
    "print(\"\\n=== 필터링 전후 비교 ===\")\n",
    "print(\"왼쪽 (빨간색): 필터링 전 (노이즈 포함)\")\n",
    "print(\"오른쪽 (초록색): 필터링 후 (깨끗한 데이터)\")\n",
    "\n",
    "pcd_before_after = pcd_noisy_display + pcd_filtered_display\n",
    "o3d.visualization.draw_geometries([pcd_before_after], \n",
    "                                    window_name=\"Before vs After Filtering\",\n",
    "                                    width=800, height=600)"
   ]
  },
  {
   "cell_type": "markdown",
   "metadata": {},
   "source": [
    "### 2-3. Radius Outlier Removal (반지름 기반 이상점 제거)\n",
    "Radius Outlier Removal 방식은 각 포인트 주변의 지정된 반지름 내에 있는 이웃 포인트의 개수를 세어, 최소 개수 이상의 이웃이 없는 점들을 제거합니다.\n",
    "\n",
    "![Radius Outlier Removal](../resources/ch5/radius_outlier.webp)\n",
    "\n",
    "\n",
    "**알고리즘 원리:**\n",
    "1. 각 점을 중심으로 지정된 반지름의 구(sphere)를 만듭니다\n",
    "2. 그 구 안에 있는 이웃 포인트의 개수를 셉니다  \n",
    "3. 이웃 개수가 최소 임계값(min_nb_points) 미만인 점들을 아웃라이어로 분류합니다\n",
    "4. 아웃라이어를 제거한 포인트 클라우드를 반환합니다\n",
    "\n",
    "이 방법은 밀도 기반 필터링으로, 고립된 점들이나 밀도가 낮은 영역의 노이즈를 효과적으로 제거할 수 있습니다.\n"
   ]
  },
  {
   "cell_type": "code",
   "execution_count": 25,
   "metadata": {},
   "outputs": [
    {
     "name": "stdout",
     "output_type": "stream",
     "text": [
      "=== 커스텀 Radius Outlier Removal ===\n",
      "Radius Outlier Removal 적용...\n",
      "파라미터: radius=0.1, min_nb_points=10\n",
      "입력 포인트 수: 4706\n",
      "  처리 중... 500/4706 (10.6%)\n",
      "  처리 중... 1000/4706 (21.2%)\n",
      "  처리 중... 1500/4706 (31.9%)\n",
      "  처리 중... 2000/4706 (42.5%)\n",
      "  처리 중... 2500/4706 (53.1%)\n",
      "  처리 중... 3000/4706 (63.7%)\n",
      "  처리 중... 3500/4706 (74.4%)\n",
      "  처리 중... 4000/4706 (85.0%)\n",
      "  처리 중... 4500/4706 (95.6%)\n",
      "처리 시간: 0.6020초\n",
      "필터링된 포인트: 4137개\n",
      "제거된 아웃라이어: 569개\n",
      "아웃라이어 비율: 12.09%\n"
     ]
    }
   ],
   "source": [
    "def custom_radius_outlier_removal(pcd, radius=0.05, min_nb_points=16):\n",
    "    \"\"\"\n",
    "    커스텀 Radius Outlier Removal 구현\n",
    "    \n",
    "    Args:\n",
    "        pcd: 입력 포인트 클라우드 (Open3D PointCloud 또는 numpy array)\n",
    "        radius: 검색 반지름\n",
    "        min_nb_points: 최소 이웃 포인트 개수\n",
    "    \n",
    "    Returns:\n",
    "        filtered_pcd: 필터링된 포인트 클라우드\n",
    "        outlier_indices: 제거된 아웃라이어 인덱스들\n",
    "    \"\"\"\n",
    "    if isinstance(pcd, o3d.geometry.PointCloud):\n",
    "        points = np.asarray(pcd.points)\n",
    "    else:\n",
    "        points = pcd\n",
    "    \n",
    "    print(f\"Radius Outlier Removal 적용...\")\n",
    "    print(f\"파라미터: radius={radius}, min_nb_points={min_nb_points}\")\n",
    "    print(f\"입력 포인트 수: {len(points)}\")\n",
    "    \n",
    "    # 각 포인트에 대해 반지름 내 이웃 개수 계산\n",
    "    inlier_mask = np.zeros(len(points), dtype=bool)\n",
    "    \n",
    "    start_time = time.time()\n",
    "    for i, point in enumerate(points):\n",
    "        if i % 500 == 0 and i > 0:\n",
    "            print(f\"  처리 중... {i}/{len(points)} ({i/len(points)*100:.1f}%)\")\n",
    "        \n",
    "        # 현재 점에서 모든 점까지의 거리 계산\n",
    "        distances = np.linalg.norm(points - point, axis=1)\n",
    "        \n",
    "        # 반지름 내에 있는 이웃 포인트 개수 (자기 자신 제외)\n",
    "        neighbors_in_radius = np.sum(distances <= radius) - 1 # TODO: distances에서 자기 자신을 제외한 반지름 내 이웃 개수 계산\n",
    "        \n",
    "        # 최소 이웃 개수 이상이면 인라이어로 분류\n",
    "        if neighbors_in_radius >= min_nb_points: # TODO: 반지름 내에 있는 이웃 포인트 개수가 min_nb_points 이상인지 확인\n",
    "            inlier_mask[i] = True\n",
    "    \n",
    "    processing_time = time.time() - start_time\n",
    "    \n",
    "    # 결과 계산\n",
    "    inlier_points = points[inlier_mask]\n",
    "    outlier_indices = np.where(~inlier_mask)[0]\n",
    "    \n",
    "    print(f\"처리 시간: {processing_time:.4f}초\")\n",
    "    print(f\"필터링된 포인트: {len(inlier_points)}개\")\n",
    "    print(f\"제거된 아웃라이어: {len(outlier_indices)}개\")\n",
    "    print(f\"아웃라이어 비율: {len(outlier_indices)/len(points)*100:.2f}%\")\n",
    "    \n",
    "    return inlier_points, outlier_indices\n",
    "\n",
    "# 원본 노이즈 데이터에 적용\n",
    "print(\"=== 커스텀 Radius Outlier Removal ===\")\n",
    "radius = 0.1\n",
    "min_nb_points = 10\n",
    "\n",
    "filtered_radius, outlier_indices_radius = custom_radius_outlier_removal(\n",
    "    points_3d, radius=radius, min_nb_points=min_nb_points\n",
    ") # TODO: 커스텀 Radius Outlier Removal 함수의 인자를 채워주세요.\n"
   ]
  },
  {
   "cell_type": "code",
   "execution_count": 26,
   "metadata": {},
   "outputs": [
    {
     "name": "stdout",
     "output_type": "stream",
     "text": [
      "\n",
      "=== Radius Outlier Removal 결과 시각화 ===\n",
      "파란색: 필터링된 포인트 (인라이어)\n",
      "빨간색: 제거된 포인트 (아웃라이어)\n"
     ]
    }
   ],
   "source": [
    "# Radius Outlier Removal 결과 시각화\n",
    "pcd_radius_filtered = o3d.geometry.PointCloud()\n",
    "pcd_radius_filtered.points = o3d.utility.Vector3dVector(filtered_radius)\n",
    "\n",
    "pcd_radius_outliers = o3d.geometry.PointCloud()\n",
    "outlier_points_radius = points_3d[outlier_indices_radius]\n",
    "pcd_radius_outliers.points = o3d.utility.Vector3dVector(outlier_points_radius)\n",
    "\n",
    "# 색상 설정\n",
    "pcd_radius_filtered.paint_uniform_color([0.0, 0.0, 1.0])  # 파란색 (인라이어)\n",
    "pcd_radius_outliers.paint_uniform_color([1.0, 0.0, 0.0])  # 빨간색 (아웃라이어)\n",
    "\n",
    "print(\"\\n=== Radius Outlier Removal 결과 시각화 ===\")\n",
    "print(\"파란색: 필터링된 포인트 (인라이어)\")\n",
    "print(\"빨간색: 제거된 포인트 (아웃라이어)\")\n",
    "\n",
    "pcd_radius_result = pcd_radius_filtered + pcd_radius_outliers\n",
    "o3d.visualization.draw_geometries([pcd_radius_result], \n",
    "                                    window_name=\"Radius Outlier Removal Result\",\n",
    "                                    width=800, height=600)"
   ]
  },
  {
   "cell_type": "code",
   "execution_count": 27,
   "metadata": {},
   "outputs": [
    {
     "name": "stdout",
     "output_type": "stream",
     "text": [
      "\n",
      "=== 모든 필터링 방법 종합 비교 ===\n",
      "왼쪽부터:\n",
      "1. 회색: 원본 (노이즈 포함)\n",
      "2. 초록: 커스텀 Statistical Outlier Removal\n",
      "3. 파랑: 커스텀 Radius Outlier Removal\n",
      "[Open3D WARNING] GLFW Error: WGL: Failed to make context current: 요청한 변환 작업을 지원할 수 없습니다. \n"
     ]
    }
   ],
   "source": [
    "### 종합 비교 시각화 ###\n",
    "print(\"\\n=== 모든 필터링 방법 종합 비교 ===\")\n",
    "\n",
    "# 포인트 클라우드 복사본들 생성\n",
    "pcd_original_vis = o3d.geometry.PointCloud(pcd_noisy)\n",
    "pcd_custom_stat_vis = o3d.geometry.PointCloud(pcd_filtered)  \n",
    "pcd_custom_radius_vis = o3d.geometry.PointCloud(pcd_radius_filtered)\n",
    "\n",
    "# 각각을 다른 위치에 배치\n",
    "spacing = 1.2\n",
    "pcd_original_vis.translate(np.array([0 * spacing, 0, 0]))\n",
    "pcd_custom_stat_vis.translate(np.array([1 * spacing, 0, 0]))\n",
    "pcd_custom_radius_vis.translate(np.array([2 * spacing, 0, 0]))\n",
    "\n",
    "# 각각에 다른 색상 부여\n",
    "pcd_original_vis.paint_uniform_color([0.7, 0.7, 0.7])       # 회색 (원본)\n",
    "pcd_custom_stat_vis.paint_uniform_color([0.0, 1.0, 0.0])    # 초록색 (커스텀 Statistical)\n",
    "pcd_custom_radius_vis.paint_uniform_color([0.0, 0.0, 1.0])  # 파란색 (커스텀 Radius)\n",
    "\n",
    "print(\"왼쪽부터:\")\n",
    "print(\"1. 회색: 원본 (노이즈 포함)\")\n",
    "print(\"2. 초록: 커스텀 Statistical Outlier Removal\")\n",
    "print(\"3. 파랑: 커스텀 Radius Outlier Removal\") \n",
    "\n",
    "# 모든 결과 함께 시각화\n",
    "all_results = (pcd_original_vis + pcd_custom_stat_vis + pcd_custom_radius_vis)\n",
    "o3d.visualization.draw_geometries([all_results], \n",
    "                                    window_name=\"All Results\",\n",
    "                                    width=800, height=600)"
   ]
  },
  {
   "cell_type": "markdown",
   "metadata": {},
   "source": [
    "### 2-4. 실제 Radar point cloud에 적용"
   ]
  },
  {
   "cell_type": "code",
   "execution_count": 29,
   "metadata": {},
   "outputs": [
    {
     "name": "stdout",
     "output_type": "stream",
     "text": [
      "=== 첫 번째 radar 데이터 시각화 ===\n",
      "Applying Statistical Outlier Removal...\n",
      "Parameters: nb_neighbors=20, std_ratio=0.5\n",
      "Input points: 241\n",
      "Computing mean distances for 241 points using custom KD-Tree...\n",
      "Building KD-Tree structure...\n",
      "KD-Tree built successfully in 0.0000s. Starting k-NN search for each point...\n",
      "  Processed 100/241 points (41.5%)\n",
      "  Processed 200/241 points (83.0%)\n",
      "Mean distance computation completed in 0.0080s.\n",
      "Average time per k-NN search: 0.033ms\n",
      "Distance range: [0.6876, 119.7103]\n",
      "Global mean distance: 8.2458\n",
      "Global std distance: 16.5742\n",
      "Threshold range: [0.0000, 16.5329]\n",
      "Outliers detected: 14\n",
      "Inliers remaining: 227\n",
      "Outlier ratio: 5.81%\n",
      "Processing time: 0.0087 seconds\n",
      "Radius Outlier Removal 적용...\n",
      "파라미터: radius=3.0, min_nb_points=3\n",
      "입력 포인트 수: 241\n",
      "처리 시간: 0.0080초\n",
      "필터링된 포인트: 195개\n",
      "제거된 아웃라이어: 46개\n",
      "아웃라이어 비율: 19.09%\n"
     ]
    }
   ],
   "source": [
    "# 첫 번째 radar 데이터 시각화\n",
    "print(\"=== 첫 번째 radar 데이터 시각화 ===\")\n",
    "\n",
    "o3d.visualization.draw_geometries([point_clouds[4]], \n",
    "                                    window_name=\"First Radar Data\",\n",
    "                                    width=800, height=600)\n",
    "\n",
    "# 직접 작성한 Statistical Outlier Removal 적용\n",
    "# 파라미터 설정\n",
    "nb_neighbors = 20\n",
    "std_ratio = 0.5\n",
    "radar_stat_filter = StatisticalOutlierRemoval(nb_neighbors=nb_neighbors, std_ratio=std_ratio)\n",
    "radar_points = np.asarray(point_clouds[4].points)\n",
    "filtered_points_stat, outlier_points_stat = radar_stat_filter.filter_points_sor(radar_points, return_outliers=True)\n",
    "\n",
    "# Radius Outlier Removal 적용\n",
    "# 파라미터 설정\n",
    "radius = 3.0\n",
    "min_nb_points = 3\n",
    "filtered_points_radius, outlier_points_radius = custom_radius_outlier_removal(radar_points, radius, min_nb_points)"
   ]
  },
  {
   "cell_type": "code",
   "execution_count": 30,
   "metadata": {},
   "outputs": [
    {
     "name": "stdout",
     "output_type": "stream",
     "text": [
      "\n",
      "=== Statistical Outlier Removal 결과 시각화 ===\n",
      "초록색: 필터링된 포인트 (인라이어)\n",
      "빨간색: 제거된 포인트 (아웃라이어)\n"
     ]
    }
   ],
   "source": [
    "# Statistical Outlier Removal 결과 시각화\n",
    "pcd_filtered = o3d.geometry.PointCloud()\n",
    "pcd_filtered.points = o3d.utility.Vector3dVector(filtered_points_stat[:, :3])\n",
    "\n",
    "pcd_outliers = o3d.geometry.PointCloud()\n",
    "pcd_outliers.points = o3d.utility.Vector3dVector(outlier_points_stat[:, :3])\n",
    "\n",
    "# 색상 설정\n",
    "pcd_filtered.paint_uniform_color([0.0, 1.0, 0.0])  # 초록색 (인라이어)\n",
    "pcd_outliers.paint_uniform_color([1.0, 0.0, 0.0])   # 빨간색 (아웃라이어)\n",
    "\n",
    "### 필터링 결과 시각화 ###\n",
    "print(\"\\n=== Statistical Outlier Removal 결과 시각화 ===\")\n",
    "print(\"초록색: 필터링된 포인트 (인라이어)\")\n",
    "print(\"빨간색: 제거된 포인트 (아웃라이어)\")\n",
    "\n",
    "# 모든 포인트 함께 시각화\n",
    "pcd_result_combined = pcd_filtered + pcd_outliers\n",
    "o3d.visualization.draw_geometries([pcd_result_combined], \n",
    "                                    window_name=\"Statistical Outlier Removal Result\",\n",
    "                                    width=800, height=600)"
   ]
  },
  {
   "cell_type": "code",
   "execution_count": 31,
   "metadata": {},
   "outputs": [
    {
     "name": "stdout",
     "output_type": "stream",
     "text": [
      "\n",
      "=== Radius Outlier Removal 결과 시각화 ===\n",
      "파란색: 필터링된 포인트 (인라이어)\n",
      "빨간색: 제거된 포인트 (아웃라이어)\n"
     ]
    }
   ],
   "source": [
    "# Radius Outlier Removal 결과 시각화\n",
    "pcd_radius_filtered = o3d.geometry.PointCloud()\n",
    "pcd_radius_filtered.points = o3d.utility.Vector3dVector(filtered_points_radius)\n",
    "\n",
    "pcd_radius_outliers = o3d.geometry.PointCloud()\n",
    "outlier_points_radius = radar_points[outlier_points_radius]\n",
    "pcd_radius_outliers.points = o3d.utility.Vector3dVector(outlier_points_radius)\n",
    "\n",
    "# 색상 설정\n",
    "pcd_radius_filtered.paint_uniform_color([0.0, 0.0, 1.0])  # 파란색 (인라이어)\n",
    "pcd_radius_outliers.paint_uniform_color([1.0, 0.0, 0.0])  # 빨간색 (아웃라이어)\n",
    "\n",
    "print(\"\\n=== Radius Outlier Removal 결과 시각화 ===\")\n",
    "print(\"파란색: 필터링된 포인트 (인라이어)\")\n",
    "print(\"빨간색: 제거된 포인트 (아웃라이어)\")\n",
    "\n",
    "pcd_radius_result = pcd_radius_filtered + pcd_radius_outliers\n",
    "o3d.visualization.draw_geometries([pcd_radius_result], \n",
    "                                    window_name=\"Radius Outlier Removal Result\",\n",
    "                                    width=800, height=600)"
   ]
  },
  {
   "cell_type": "markdown",
   "metadata": {},
   "source": [
    "## 3. Transformation 실습\n",
    "포인트 클라우드를 이용한 지도 구축, 정합 등 좌표계 변환을 위해서는 transformation이 필수입니다.  \n",
    "\n",
    "3차원 공간을 나타내는 포인트 클라우드의 경우 좌표들에 대한 세트이기 때문에 일반적으로 어파인 변환(affine transformation)을 사용합니다.  \n",
    "\n",
    "이 절에서는 다음과 같은 어파인 변환들들을 소개합니다.\n",
    "\n",
    "- 평행 이동(Translation)\n",
    "- 회전(Rotation)\n",
    "- 변환 행렬(Transformation matrix)"
   ]
  },
  {
   "cell_type": "markdown",
   "metadata": {},
   "source": [
    "### 3-1. Translation\n",
    "Translation은 포인트 클라우드를 각 좌표축 방향으로 평행이동하는 것을 의미합니다.\n",
    "\n",
    "Translation의 수식은 아래와 같습니다.\n",
    "- Translation\n",
    "$$\n",
    "\\begin{equation}\n",
    "\\left[\\begin{array}{ccc}\n",
    "p_x' \\\\\n",
    "p_y' \\\\\n",
    "p_z'\n",
    "\\end{array}\\right]\n",
    "=\n",
    "\\left[\\begin{array}{ccc}\n",
    "p_x \\\\\n",
    "p_y \\\\\n",
    "p_z\n",
    "\\end{array}\\right]\n",
    "+\n",
    "\\left[\\begin{array}{ccc}\n",
    "t_x \\\\\n",
    "t_y \\\\\n",
    "t_z\n",
    "\\end{array}\\right] \n",
    "\\end{equation}\n",
    "$$\n",
    "\n",
    "이 때, 이동 수치를 나타내는 $[t_x, t_y, t_z]^T$를 translation vector $T$라고 합니다.\n",
    "\n",
    "Translation vector를 사용하여 포인트 클라우드 $p$를 $p'$로 변환할 수 있습니다."
   ]
  },
  {
   "cell_type": "code",
   "execution_count": 32,
   "metadata": {},
   "outputs": [],
   "source": [
    "# for translation\n",
    "from tutlibs.radar.custom_radar import custom_translation"
   ]
  },
  {
   "cell_type": "markdown",
   "metadata": {},
   "source": [
    "위에서 불러온 함수 `custom_translation`를 수정하여 아래의 코드를 완성하세요."
   ]
  },
  {
   "cell_type": "code",
   "execution_count": 33,
   "metadata": {},
   "outputs": [
    {
     "ename": "NameError",
     "evalue": "name 'xxxxxx' is not defined",
     "output_type": "error",
     "traceback": [
      "\u001b[1;31m---------------------------------------------------------------------------\u001b[0m",
      "\u001b[1;31mNameError\u001b[0m                                 Traceback (most recent call last)",
      "\u001b[1;32mC:\\Users\\JEH\\AppData\\Local\\Temp\\ipykernel_15020\\1542136839.py\u001b[0m in \u001b[0;36m<module>\u001b[1;34m\u001b[0m\n\u001b[0;32m      4\u001b[0m \u001b[1;33m\u001b[0m\u001b[0m\n\u001b[0;32m      5\u001b[0m \u001b[1;31m# 포인트 클라우드 이동\u001b[0m\u001b[1;33m\u001b[0m\u001b[1;33m\u001b[0m\u001b[1;33m\u001b[0m\u001b[0m\n\u001b[1;32m----> 6\u001b[1;33m \u001b[0mpcd_translation_1\u001b[0m \u001b[1;33m=\u001b[0m \u001b[0mcustom_translation\u001b[0m\u001b[1;33m(\u001b[0m\u001b[0mpcd_clean\u001b[0m\u001b[1;33m,\u001b[0m \u001b[0mtranslation_vector_1\u001b[0m\u001b[1;33m)\u001b[0m \u001b[1;31m# TODO: custom_translation 함수 구현\u001b[0m\u001b[1;33m\u001b[0m\u001b[1;33m\u001b[0m\u001b[0m\n\u001b[0m\u001b[0;32m      7\u001b[0m \u001b[0mpcd_translation_2\u001b[0m \u001b[1;33m=\u001b[0m \u001b[0mcustom_translation\u001b[0m\u001b[1;33m(\u001b[0m\u001b[0mpcd_clean\u001b[0m\u001b[1;33m,\u001b[0m \u001b[0mtranslation_vector_2\u001b[0m\u001b[1;33m)\u001b[0m \u001b[1;31m# TODO: custom_translation 함수 구현\u001b[0m\u001b[1;33m\u001b[0m\u001b[1;33m\u001b[0m\u001b[0m\n\u001b[0;32m      8\u001b[0m \u001b[1;33m\u001b[0m\u001b[0m\n",
      "\u001b[1;32mc:\\SPB_Data\\adas_practice_ws\\ailab_adas_sensor_sw\\practice\\tutlibs\\radar\\custom_radar.py\u001b[0m in \u001b[0;36mcustom_translation\u001b[1;34m(pcd, vector)\u001b[0m\n\u001b[0;32m   1072\u001b[0m     \"\"\"\n\u001b[0;32m   1073\u001b[0m     \u001b[0mxyz\u001b[0m \u001b[1;33m=\u001b[0m \u001b[0mnp\u001b[0m\u001b[1;33m.\u001b[0m\u001b[0masarray\u001b[0m\u001b[1;33m(\u001b[0m\u001b[0mpcd\u001b[0m\u001b[1;33m.\u001b[0m\u001b[0mpoints\u001b[0m\u001b[1;33m)\u001b[0m\u001b[1;33m\u001b[0m\u001b[1;33m\u001b[0m\u001b[0m\n\u001b[1;32m-> 1074\u001b[1;33m     \u001b[0mtranslated_xyz\u001b[0m \u001b[1;33m=\u001b[0m \u001b[0mxxxxxx\u001b[0m \u001b[1;31m# TODO: np.newaxis를 사용하여 vector를 xyz에 더하기\u001b[0m\u001b[1;33m\u001b[0m\u001b[1;33m\u001b[0m\u001b[0m\n\u001b[0m\u001b[0;32m   1075\u001b[0m \u001b[1;33m\u001b[0m\u001b[0m\n\u001b[0;32m   1076\u001b[0m     \u001b[0mpcd_translation\u001b[0m \u001b[1;33m=\u001b[0m \u001b[0mo3d\u001b[0m\u001b[1;33m.\u001b[0m\u001b[0mgeometry\u001b[0m\u001b[1;33m.\u001b[0m\u001b[0mPointCloud\u001b[0m\u001b[1;33m(\u001b[0m\u001b[1;33m)\u001b[0m\u001b[1;33m\u001b[0m\u001b[1;33m\u001b[0m\u001b[0m\n",
      "\u001b[1;31mNameError\u001b[0m: name 'xxxxxx' is not defined"
     ]
    }
   ],
   "source": [
    "# 이동 수치를 나타내는 translation vector 정의\n",
    "translation_vector_1 = np.array([0.5, 0.8, 0.2])\n",
    "translation_vector_2 = np.array([1.2, 2.1, -1.3])\n",
    "\n",
    "# 포인트 클라우드 이동\n",
    "pcd_translation_1 = custom_translation(pcd_clean, translation_vector_1) # TODO: custom_translation 함수 구현\n",
    "pcd_translation_2 = custom_translation(pcd_clean, translation_vector_2) # TODO: custom_translation 함수 구현\n",
    "\n",
    "### 시각화 ###\n",
    "axis_pcd = o3d.geometry.TriangleMesh.create_coordinate_frame(size=0.5)\n",
    "o3d.visualization.draw_geometries([pcd_clean, pcd_translation_1, pcd_translation_2, axis_pcd],\n",
    "                                    window_name=\"Translation Result\",\n",
    "                                    width=800, height=600)"
   ]
  },
  {
   "cell_type": "markdown",
   "metadata": {},
   "source": [
    "해당 출력 결과에서, 갈색은 원본 포인트 클라우드를 나타내며, 붉은 색과 푸른 색의 포인트 클라우드는 각각 `translation vector_1`, `translation vector_2`가 적용된 포인트 클라우드입니댜.\n",
    "\n",
    "Translation 함수의 경우, Open3D 라이브러리에서 기본 함수로 제공합니다."
   ]
  },
  {
   "cell_type": "code",
   "execution_count": null,
   "metadata": {},
   "outputs": [],
   "source": [
    "# Open3D 라이브러리에서 제공하는 translation 함수\n",
    "pcd_translation_open3d = copy.deepcopy(pcd_clean)\n",
    "\n",
    "# 포인트 클라우드 이동\n",
    "pcd_translation_open3d.translate(translation_vector_1)\n",
    "\n",
    "### 시각화 ###\n",
    "pcd_translation_open3d.paint_uniform_color([1.0, 0, 0])\n",
    "axis_pcd = o3d.geometry.TriangleMesh.create_coordinate_frame(size=0.5)\n",
    "o3d.visualization.draw_geometries([pcd_clean, pcd_translation_open3d, axis_pcd])"
   ]
  },
  {
   "cell_type": "markdown",
   "metadata": {},
   "source": [
    "해당 출력 결과에서, 갈색은 원본 포인트 클라우드를 나타내며, 붉은 색 포인트 클라우드는 Open3D 함수를 적용한 포인트 클라우드입니댜."
   ]
  },
  {
   "cell_type": "markdown",
   "metadata": {},
   "source": [
    "### 3-2. Rotation\n",
    "Rotation은 포인트 클라우드를 각 좌표축 중심으로 화전하는 것을 의미합니다.\n",
    "\n",
    "Rotation의 수식은 아래와 같습니다.\n",
    "\n",
    "- Rotation\n",
    "\n",
    "$$\n",
    "\\left[\\begin{array}{ccc}\n",
    "p_x' \\\\\n",
    "p_y' \\\\\n",
    "p_z'\n",
    "\\end{array}\\right]\n",
    "=\\left[\\begin{array}{ccc}\n",
    "r_1 & r_2 & r_3 \\\\\n",
    "r_4 & r_5 & r_6 \\\\\n",
    "r_7 & r_8 & r_9\n",
    "\\end{array}\\right]\n",
    "\\left[\\begin{array}{ccc}\n",
    "p_x \\\\\n",
    "p_y \\\\\n",
    "p_z\n",
    "\\end{array}\\right]\n",
    "$$\n",
    "\n",
    "이 때, 회전 수치를 나타내는 3x3 matrix를 rotation matrix $R$라고 합니다.\n",
    "\n",
    "Rotation matrix를 사용하여 포인트 클라우드 $p$를 $p'$로 변환할 수 있습니다."
   ]
  },
  {
   "cell_type": "markdown",
   "metadata": {},
   "source": [
    "포인트 클라우드의 회전 정보를 각 축 요소로 나타낼 수 있는데, x축 회전을 $roll$, y축 회전을 $pitch$, z축 회전을 $yaw$라고 합니다.  \n",
    "해당 회전이 순차적으로 이뤄지며, 각 축 회전 행렬은 아래와 같습니다:\n",
    "\n",
    "- Roll ($\\phi$. x축 회전)\n",
    "\n",
    "$$\n",
    "R_x(\\phi)\n",
    "=\\left[\\begin{array}{ccc}\n",
    "1 & 0 & 0 \\\\\n",
    "0 & \\cos\\phi & -\\sin\\phi \\\\\n",
    "0 & \\sin\\phi & \\cos\\phi\n",
    "\\end{array}\\right]\n",
    "$$\n",
    "\n",
    "- Pitch ($\\theta$. y축 회전)\n",
    "\n",
    "$$\n",
    "R_y(\\theta)\n",
    "=\\left[\\begin{array}{ccc}\n",
    "\\cos\\theta & 0 & \\sin\\theta \\\\\n",
    "0 & 1 & 0 \\\\\n",
    "-\\sin\\theta & 0 & \\cos\\theta\n",
    "\\end{array}\\right]\n",
    "$$\n",
    "\n",
    "- Yaw ($\\psi$. z축 회전)\n",
    "\n",
    "$$\n",
    "R_z(\\psi)\n",
    "=\\left[\\begin{array}{ccc}\n",
    "\\cos\\psi & -\\sin\\psi & 0 \\\\\n",
    "\\sin\\psi & \\cos\\psi & 0 \\\\\n",
    "0 & 0 & 1 \\\\\n",
    "\\end{array}\\right]\n",
    "$$\n",
    "\n",
    "세 회전 행렬을 곱하여 최종 회전 행렬을 구할 수 있습니다.\n",
    "\n",
    "$$\n",
    "R=R_z(\\psi)R_y(\\theta)R_x(\\phi)\n",
    "$$"
   ]
  },
  {
   "cell_type": "code",
   "execution_count": null,
   "metadata": {},
   "outputs": [],
   "source": [
    "# for rotation\n",
    "from tutlibs.radar.custom_radar import custom_rotation, custom_get_rotation_matrix"
   ]
  },
  {
   "cell_type": "markdown",
   "metadata": {},
   "source": [
    "위에서 불러온 함수 `custom_get_rotation_matrix`, `custom_rotation`를 수정하여 아래의 코드를 완성하세요."
   ]
  },
  {
   "cell_type": "code",
   "execution_count": null,
   "metadata": {},
   "outputs": [],
   "source": [
    "roll_deg = 45\n",
    "pitch_deg = 0\n",
    "yaw_deg = 0\n",
    "\n",
    "angle_1 = np.array([roll_deg, pitch_deg, yaw_deg])\n",
    "angle_2 = np.array([0, 0, 45])\n",
    "\n",
    "# 회전 행렬 계산\n",
    "rotation_matrix_1 = custom_get_rotation_matrix(angle_1) # TODO: custom_get_rotation_matrix 함수 구현\n",
    "rotation_matrix_2 = custom_get_rotation_matrix(angle_2) # TODO: custom_get_rotation_matrix 함수 구현\n",
    "\n",
    "# 포인트 클라우드 회전\n",
    "pcd_rotation_1 = custom_rotation(pcd_clean, rotation_matrix_1) # TODO: custom_rotation 함수 구현\n",
    "pcd_rotation_2 = custom_rotation(pcd_clean, rotation_matrix_2) # TODO: custom_rotation 함수 구현\n",
    "\n",
    "### 시각화 ###\n",
    "axis_pcd = o3d.geometry.TriangleMesh.create_coordinate_frame(size=0.5)\n",
    "o3d.visualization.draw_geometries([pcd_clean, pcd_rotation_1, pcd_rotation_2, axis_pcd])"
   ]
  },
  {
   "cell_type": "markdown",
   "metadata": {},
   "source": [
    "Rotation 함수의 경우에도, Open3D 라이브러리에서 기본 함수로 제공합니다."
   ]
  },
  {
   "cell_type": "code",
   "execution_count": null,
   "metadata": {},
   "outputs": [],
   "source": [
    "# Open3D 라이브러리에서 제공하는 rotation 함수\n",
    "pcd_rotation_open3d = copy.deepcopy(pcd_clean)\n",
    "\n",
    "# 회전 행렬 계산\n",
    "rotation_matrix_open3d = pcd_rotation_open3d.get_rotation_matrix_from_xyz(angle_1)\n",
    "\n",
    "# 회전 행렬 적용\n",
    "pcd_rotation_open3d.rotate(rotation_matrix_open3d)\n",
    "\n",
    "### 시각화 ###\n",
    "pcd_rotation_open3d.paint_uniform_color([0, 0, 1.0])\n",
    "axis_pcd = o3d.geometry.TriangleMesh.create_coordinate_frame(size=0.5)\n",
    "o3d.visualization.draw_geometries([pcd_clean, pcd_rotation_open3d, axis_pcd])"
   ]
  },
  {
   "cell_type": "markdown",
   "metadata": {},
   "source": [
    "해당 출력 결과에서, 갈색은 원본 포인트 클라우드를 나타내며, 파란 색 포인트 클라우드는 Open3D 함수를 적용한 포인트 클라우드입니댜."
   ]
  },
  {
   "cell_type": "markdown",
   "metadata": {},
   "source": [
    "### 3-3. Transformation matrix\n",
    "앞서 설명된 translation vector, rotation matrix 외에도 4x4 transformation matrix를 이용해 포인트 클라우드를 변환할 수 있습니다.  \n",
    "\n",
    "이 방법은 4x4 transformation matrix와 포인트 클라우드를 내적(dot product)을 계산합니다.  \n",
    "\n",
    "해당 변환 방법은 translation vectors과 rotation matrix를 포함한 모든 변환 정보를 한 번에 처리할 수 있어, 데이터셋 처리나 반복적 정합(예: ICP) 등 다양한 경우에 편리하게 사용됩니다."
   ]
  },
  {
   "cell_type": "markdown",
   "metadata": {},
   "source": [
    "<!-- As shown above, we can integrate the transformation information into single transformation matrix by dot product.\n",
    "Since the transformation matrix is a simple transformation representation, the transformation matrix is used in various cases such as datasets and iterative methods (ex: ICP).\n",
    "\n",
    "Next, let's check the contents of the 4x4 transformation matrix. Relations between a 4x4 transformation matrix and others are as follows. -->\n",
    "\n",
    "다음으로 4×4 transformation matrix와 각각의 변환 요소가 어떻게 대응되는지 살펴보겠습니다.\n",
    "\n",
    "<!-- - convert a translation vector $\\mathbf{T}$ to a 4x4 transformation matrix $\\mathbf{TM}$: -->\n",
    "- translation vector $T$를 4x4 transformation matrix $\\mathbf{TM}$로 변환:\n",
    "\n",
    "$$\n",
    "T=\\left[\\begin{array}{ccc}\n",
    "t_x \\\\\n",
    "t_y \\\\\n",
    "t_z\n",
    "\\end{array}\\right] , \n",
    "\\mathbf{TM}=\\left[\\begin{array}{ccc}\n",
    "1 & 0 & 0 & t_x \\\\\n",
    "0 & 1 & 0 & t_y \\\\\n",
    "0 & 0 & 1 & t_z \\\\\n",
    "0 & 0 & 0 & 1\n",
    "\\end{array}\\right]\n",
    "$$\n",
    "\n",
    "<!-- - convert a 3x3 rotation matrix $\\mathbf{R}$ to a 4x4 transformation matrix $\\mathbf{TM}$: -->\n",
    "- 3x3 rotation matrix $R$를 4x4 transformation matrix $\\mathbf{TM}$로 변환:\n",
    "\n",
    "$$\n",
    "R=\\left[\\begin{array}{ccc}\n",
    "r_1 & r_2 & r_3 \\\\\n",
    "r_4 & r_5 & r_6 \\\\\n",
    "r_7 & r_8 & r_9\n",
    "\\end{array}\\right] , \n",
    "\\mathbf{TM}=\\left[\\begin{array}{ccc}\n",
    "r_1 & r_2 & r_3 & 0 \\\\\n",
    "r_4 & r_5 & r_6 & 0 \\\\\n",
    "r_7 & r_8 & r_9 & 0 \\\\\n",
    "0 & 0 & 0 & 1\n",
    "\\end{array}\\right]\n",
    "$$\n",
    "\n",
    "- translation vector $T$와 3x3 rotation matrix $R$를 4x4 transformation matrix $\\mathbf{TM}$로 변환:\n",
    "\n",
    "$$\n",
    "T=\\left[\\begin{array}{ccc}\n",
    "t_x \\\\\n",
    "t_y \\\\\n",
    "t_z\n",
    "\\end{array}\\right] , \n",
    "R=\\left[\\begin{array}{ccc}\n",
    "r_1 & r_2 & r_3 \\\\\n",
    "r_4 & r_5 & r_6 \\\\\n",
    "r_7 & r_8 & r_9\n",
    "\\end{array}\\right] , \n",
    "\\mathbf{TM}=\\left[\\begin{array}{ccc}\n",
    "r_1 & r_2 & r_3 & t_x \\\\\n",
    "r_4 & r_5 & r_6 & t_y \\\\\n",
    "r_7 & r_8 & r_9 & t_z \\\\\n",
    "0 & 0 & 0 & 1\n",
    "\\end{array}\\right]\n",
    "$$"
   ]
  },
  {
   "cell_type": "code",
   "execution_count": null,
   "metadata": {},
   "outputs": [],
   "source": [
    "# for transformation\n",
    "from tutlibs.radar.custom_radar import custom_get_transformation_matrix, custom_pcd_transformation"
   ]
  },
  {
   "cell_type": "markdown",
   "metadata": {},
   "source": [
    "위에서 불러온 함수 `custom_get_transformation_matrix`, `custom_transformation`를 수정하여 아래의 코드를 완성하세요."
   ]
  },
  {
   "cell_type": "code",
   "execution_count": null,
   "metadata": {},
   "outputs": [],
   "source": [
    "# 1. translation vector 정의\n",
    "translation_vector = np.array([0.5, 0.8, 0.2]) # (3)\n",
    "print(\"Translation Vector:\\n\", translation_vector)\n",
    "\n",
    "# 2. rotation matrix 정의\n",
    "roll_deg = 45 # (degree)\n",
    "pitch_deg = 135 # (degree)\n",
    "yaw_deg = 90 # (degree)\n",
    "angle = np.array([roll_deg, pitch_deg, yaw_deg]) # (3)\n",
    "\n",
    "rotation_matrix = custom_get_rotation_matrix(angle) # (3, 3)\n",
    "print(\"Rotation Matrix:\\n\", rotation_matrix)\n",
    "\n",
    "# 3. transformation matrix 계산\n",
    "transformation_matrix = custom_get_transformation_matrix(translation_vector, rotation_matrix) # (4, 4) - TODO: custom_get_transformation_matrix 함수 구현\n",
    "print(\"Transformation Matrix:\\n\", transformation_matrix)\n",
    "\n",
    "# 4. transformation matrix 적용\n",
    "pcd_transformed = custom_pcd_transformation(pcd_clean, transformation_matrix) # TODO: custom_pcd_transformation 함수 구현\n",
    "\n",
    "### 시각화 ###\n",
    "axis_pcd = o3d.geometry.TriangleMesh.create_coordinate_frame(size=0.5)\n",
    "o3d.visualization.draw_geometries([pcd_clean, pcd_transformed, axis_pcd])"
   ]
  },
  {
   "cell_type": "markdown",
   "metadata": {},
   "source": [
    "Transformation 함수의 경우에도, Open3D 라이브러리에서 기본 함수로 제공합니다."
   ]
  },
  {
   "cell_type": "code",
   "execution_count": null,
   "metadata": {},
   "outputs": [],
   "source": [
    "# Open3D 라이브러리에서 제공하는 transformation 함수\n",
    "pcd_transformation_open3d = copy.deepcopy(pcd_clean)\n",
    "\n",
    "# 기존에 만들어두었던 transformation matrix를 사용하여 포인트 클라우드 변환\n",
    "pcd_transformation_open3d.transform(transformation_matrix)\n",
    "\n",
    "### 시각화 ###\n",
    "pcd_transformation_open3d.paint_uniform_color([0, 0, 1.0])\n",
    "axis_pcd = o3d.geometry.TriangleMesh.create_coordinate_frame(size=0.5)\n",
    "o3d.visualization.draw_geometries([pcd_clean, pcd_transformation_open3d, axis_pcd])"
   ]
  },
  {
   "cell_type": "markdown",
   "metadata": {},
   "source": [
    "해당 출력 결과에서, 초록색은 원본 포인트 클라우드를 나타내며, 파란색 포인트 클라우드는 Open3D 함수를 적용한 포인트 클라우드입니다."
   ]
  },
  {
   "cell_type": "markdown",
   "metadata": {},
   "source": [
    "### 3-4. 실제 Radar point cloud에 적용\n",
    "\n",
    "전달드린 레이더 포인트 클라우드 중 1 ~ 4번째 데이터는 동일 시퀀스에서의 코너 레이더 데이터입니다.\n",
    "\n",
    "4개 코너 레이더의 차량 좌표계 기준 calibration 값 (위치 & 회전 값)을 전달해 드리겠습니다. (EGO to Radar)\n",
    "\n",
    "해당 calibration 값을 사용하여 4개의 코너 레이더 point cloud들을 하나로 병합해주세요."
   ]
  },
  {
   "cell_type": "code",
   "execution_count": null,
   "metadata": {},
   "outputs": [],
   "source": [
    "# 4개 코너 레이더 실제 calibration 값 업데이트 (ROS tf 데이터 기반)\n",
    "calibration_values_real = {\n",
    "    \"corner_1\": {  # FL (Front Left) - msr720_fl\n",
    "        \"translation\": np.array([3.45, 0.876, 0.51]), # x, y, z (meter)\n",
    "        \"rotation\": np.array([np.rad2deg(3.141592), 0.0, np.rad2deg(0.985)]) # roll, pitch, yaw (degree)\n",
    "    },\n",
    "    \"corner_2\": {  # FR (Front Right) - msr720_fr  \n",
    "        \"translation\": np.array([3.45, -0.876, 0.51]),\n",
    "        \"rotation\": np.array([0.0, 0.0, np.rad2deg(-0.985)])\n",
    "    },\n",
    "    \"corner_3\": {  # RL (Rear Left) - msr720_rl\n",
    "        \"translation\": np.array([-0.85, 0.784, 0.51]),\n",
    "        \"rotation\": np.array([0.0, 0.0, np.rad2deg(2.232)])\n",
    "    },\n",
    "    \"corner_4\": {  # RR (Rear Right) - msr720_rr\n",
    "        \"translation\": np.array([-0.85, -0.684, 0.51]),\n",
    "        \"rotation\": np.array([np.rad2deg(3.141592), 0.0, np.rad2deg(-2.177)])\n",
    "    }\n",
    "}\n",
    "\n",
    "print(\"=== 업데이트된 Calibration 값 ===\")\n",
    "for corner, values in calibration_values_real.items():\n",
    "    print(f\"{corner} (translation): {values['translation']}\")\n",
    "    print(f\"{corner} (rotation): {values['rotation']}\")\n",
    "    print()\n"
   ]
  },
  {
   "cell_type": "code",
   "execution_count": null,
   "metadata": {},
   "outputs": [],
   "source": [
    "# 4개 코너 레이더 데이터에 calibration 적용\n",
    "print(\"=== 코너 레이더 데이터 좌표 변환 시작 ===\")\n",
    "\n",
    "# 코너 레이더 이름 정의\n",
    "corner_names = [\"corner_1\", \"corner_2\", \"corner_3\", \"corner_4\"]\n",
    "radar_names = [\"FL (Front Left)\", \"FR (Front Right)\", \"RL (Rear Left)\", \"RR (Rear Right)\"]\n",
    "\n",
    "# 변환된 포인트 클라우드를 저장할 리스트\n",
    "transformed_radars = []\n",
    "\n",
    "# 각 코너 레이더 데이터에 대해 좌표 변환 수행\n",
    "for i, (corner, radar_name) in enumerate(zip(corner_names, radar_names)):\n",
    "    print(f\"\\n{i+1}. {radar_name} 변환 중...\")\n",
    "    \n",
    "    # 원본 포인트 클라우드\n",
    "    original_pcd = point_clouds[i]\n",
    "    print(f\"   원본 포인트 수: {len(original_pcd.points)}\")\n",
    "    \n",
    "    # calibration 값 가져오기\n",
    "    calib = calibration_values_real[corner]\n",
    "    translation_vec = calib[\"translation\"]\n",
    "    rotation_angles = calib[\"rotation\"]\n",
    "    \n",
    "    print(f\"   Translation: {translation_vec}\")\n",
    "    print(f\"   Rotation (RPY): {rotation_angles}\")\n",
    "    \n",
    "    # 회전 행렬 계산\n",
    "    rotation_matrix = xxxxxx # TODO: 회전 행렬 계산\n",
    "    \n",
    "    # transformation matrix 생성\n",
    "    transformation_matrix = xxxxxx # TODO: custom_get_transformation_matrix 함수 완성\n",
    "    \n",
    "    # 포인트 클라우드 변환\n",
    "    transformed_pcd = xxxxxx # TODO: custom_pcd_transformation 함수 완성\n",
    "    \n",
    "    # 색상 설정 (각 레이더별로 다른 색상)\n",
    "    colors = [\n",
    "        [1.0, 0.0, 0.0],  # 빨간색 (FL)\n",
    "        [0.0, 1.0, 0.0],  # 초록색 (FR)  \n",
    "        [0.0, 0.0, 1.0],  # 파란색 (RL)\n",
    "        [1.0, 1.0, 0.0]   # 노란색 (RR)\n",
    "    ]\n",
    "    transformed_pcd.paint_uniform_color(colors[i])\n",
    "    \n",
    "    # 결과 저장\n",
    "    transformed_radars.append(transformed_pcd)\n",
    "    \n",
    "    print(f\"   변환된 포인트 수: {len(transformed_pcd.points)}\")\n",
    "    print(f\"   색상: {radar_name} = {colors[i]}\")\n",
    "\n",
    "print(f\"\\\\n=== 좌표 변환 완료 ===\")\n",
    "print(f\"총 {len(transformed_radars)}개 레이더 데이터 변환 완료\")\n"
   ]
  },
  {
   "cell_type": "code",
   "execution_count": null,
   "metadata": {},
   "outputs": [],
   "source": [
    "# 변환된 4개 코너 레이더 데이터 병합 및 시각화\n",
    "print(\"=== 4개 코너 레이더 데이터 병합 및 시각화 ===\")\n",
    "\n",
    "# 1. 각 레이더별 개별 시각화\n",
    "print(\"\\n1. 각 레이더별 개별 시각화\")\n",
    "for i, (radar_pcd, radar_name) in enumerate(zip(transformed_radars, radar_names)):\n",
    "    print(f\"   {radar_name} 시각화 중...\")\n",
    "    \n",
    "    # 개별 시각화\n",
    "    o3d.visualization.draw_geometries([radar_pcd], \n",
    "                                        window_name=f\"{radar_name} Radar\",\n",
    "                                        width=800, height=600)\n",
    "\n",
    "# 2. 모든 레이더 데이터 병합 시각화\n",
    "print(\"\\n2. 모든 코너 레이더 통합 시각화\")\n",
    "\n",
    "# 모든 변환된 포인트 클라우드 병합\n",
    "merged_radar_pcd = o3d.geometry.PointCloud()\n",
    "\n",
    "for i, radar_pcd in enumerate(transformed_radars):\n",
    "    merged_radar_pcd += radar_pcd\n",
    "\n",
    "# 통합 데이터 정보 출력\n",
    "print(f\"\\n=== 통합 데이터 정보 ===\")\n",
    "print(f\"전체 포인트 수: {len(merged_radar_pcd.points)}\")\n",
    "print(f\"FL 포인트 수: {len(transformed_radars[0].points)} (빨간색)\")\n",
    "print(f\"FR 포인트 수: {len(transformed_radars[1].points)} (초록색)\")\n",
    "print(f\"RL 포인트 수: {len(transformed_radars[2].points)} (파란색)\")\n",
    "print(f\"RR 포인트 수: {len(transformed_radars[3].points)} (노란색)\")\n",
    "\n",
    "# 좌표축 추가 (크기를 크게 설정)\n",
    "axis_pcd = o3d.geometry.TriangleMesh.create_coordinate_frame(size=2.0)\n",
    "\n",
    "# 통합 시각화\n",
    "print(\"\\\\n통합된 4개 코너 레이더 데이터를 확인하세요...\")\n",
    "print(\"색상 구분:\")\n",
    "print(\"  🔴 빨간색: FL (Front Left)\")\n",
    "print(\"  🟢 초록색: FR (Front Right)\")  \n",
    "print(\"  🔵 파란색: RL (Rear Left)\")\n",
    "print(\"  🟡 노란색: RR (Rear Right)\")\n",
    "\n",
    "o3d.visualization.draw_geometries([merged_radar_pcd, axis_pcd], \n",
    "                                    window_name=\"Merged 4 Corner Radars\",\n",
    "                                    width=1000, height=800)\n"
   ]
  },
  {
   "cell_type": "code",
   "execution_count": null,
   "metadata": {},
   "outputs": [],
   "source": [
    "# 원본 vs 변환된 데이터 비교 시각화\n",
    "print(\"=== 원본 vs 변환된 레이더 데이터 비교 ===\")\n",
    "\n",
    "# 원본 데이터 병합 (회색으로 표시)\n",
    "original_merged = o3d.geometry.PointCloud()\n",
    "for i, pcd in enumerate(point_clouds[:4]):  # 첫 4개만 사용\n",
    "    pcd_copy = copy.deepcopy(pcd)\n",
    "    pcd_copy.paint_uniform_color([0.7, 0.7, 0.7])  # 회색\n",
    "    original_merged += pcd_copy\n",
    "\n",
    "print(f\"원본 데이터 총 포인트 수: {len(original_merged.points)}\")\n",
    "\n",
    "# 원본 데이터만 시각화\n",
    "print(\"\\n1. 원본 레이더 데이터 (모든 레이더가 원점에 위치)\")\n",
    "o3d.visualization.draw_geometries([original_merged], \n",
    "                                    window_name=\"Original 4 Corner Radars (All at Origin)\",\n",
    "                                    width=1000, height=800)\n",
    "\n",
    "# 원본과 변환된 데이터 함께 시각화\n",
    "print(\"\\n2. 원본 (회색) vs 변환된 데이터 (색상별) 비교\")\n",
    "print(\"회색: 원본 데이터 (모두 원점)\")\n",
    "print(\"색상별: 변환된 데이터 (실제 위치)\")\n",
    "\n",
    "# 좌표축 크기 증가\n",
    "axis_pcd_large = o3d.geometry.TriangleMesh.create_coordinate_frame(size=3.0)\n",
    "\n",
    "# 원본 + 변환된 데이터 함께 시각화\n",
    "combined_visualization = original_merged + merged_radar_pcd\n",
    "o3d.visualization.draw_geometries([combined_visualization, axis_pcd_large], \n",
    "                                    window_name=\"Original vs Transformed Radar Data\",\n",
    "                                    width=1200, height=900)\n",
    "\n",
    "print(\"\\n=== 비교 완료 ===\")\n",
    "print(\"변환 결과:\")\n",
    "print(\"- 회색 포인트: 모든 레이더가 원점(0,0,0)에 위치한 원본 데이터\")\n",
    "print(\"- 색상 포인트: calibration이 적용되어 실제 차량 좌표계에 배치된 데이터\")\n",
    "print(\"- 🔴 빨간색: FL (차량 앞쪽 왼쪽)\")\n",
    "print(\"- 🟢 초록색: FR (차량 앞쪽 오른쪽)\")\n",
    "print(\"- 🔵 파란색: RL (차량 뒤쪽 왼쪽)\")\n",
    "print(\"- 🟡 노란색: RR (차량 뒤쪽 오른쪽)\")\n"
   ]
  },
  {
   "cell_type": "markdown",
   "metadata": {},
   "source": [
    "## 4. Clustering\n",
    "\n",
    "클러스터링은 유사한 특성을 가진 데이터 포인트들을 그룹으로 묶는 방법입니다.\n",
    "\n",
    "이 실습에서는 아래의 클러스터링 알고리즘들을 학습합니다:\n",
    "- **DBSCAN (Density-Based Spatial Clustering of Applications with Noise)**: 밀도 기반으로 데이터를 분할하는 군집화 방법"
   ]
  },
  {
   "cell_type": "code",
   "execution_count": 34,
   "metadata": {},
   "outputs": [],
   "source": [
    "# 포인트 클라우드 생성 함수들 및 평가, 시각화 함수들 불러오기\n",
    "from tutlibs.pointcloud_io.create_pcd import create_clustering_pcd\n",
    "from tutlibs.radar.custom_radar import visualize_clustering_result"
   ]
  },
  {
   "cell_type": "code",
   "execution_count": 35,
   "metadata": {},
   "outputs": [
    {
     "name": "stdout",
     "output_type": "stream",
     "text": [
      "\n",
      "생성된 총 포인트 개수: 500\n",
      "실제 클러스터 개수: 4\n",
      "클러터 포인트 개수: 50\n"
     ]
    }
   ],
   "source": [
    "# 클러스터링 테스트 데이터 생성\n",
    "cluster_centers = [\n",
    "    np.array([0, 0, 0]),    # 클러스터 1 중심\n",
    "    np.array([6, 0, 0]),    # 클러스터 2 중심 \n",
    "    np.array([0, 5, 0]),    # 클러스터 3 중심\n",
    "    np.array([5, 5, 4])     # 클러스터 4 중심\n",
    "]\n",
    "\n",
    "cluster_sizes = [150, 120, 100, 80]  # 각 클러스터의 포인트 개수\n",
    "cluster_stds = [0.8, 1.0, 0.6, 1.2]   # 각 클러스터의 표준편차 (퍼진 정도)\n",
    "\n",
    "# 노이즈 포인트를 포함한 포인트 클라우드 생성\n",
    "test_pcd, true_labels = create_clustering_pcd(\n",
    "    cluster_centers=cluster_centers,\n",
    "    cluster_sizes=cluster_sizes, \n",
    "    cluster_stds=cluster_stds,\n",
    "    clutter_points=50  # 노이즈 포인트 개수\n",
    ")\n",
    "\n",
    "print(f\"\\n생성된 총 포인트 개수: {len(test_pcd.points)}\")\n",
    "print(f\"실제 클러스터 개수: {len(np.unique(true_labels[true_labels >= 0]))}\")\n",
    "print(f\"클러터 포인트 개수: {np.sum(true_labels == -1)}\")\n",
    "\n",
    "# 실제 Ground Truth 클러스터링 결과 시각화\n",
    "visualize_clustering_result(test_pcd, true_labels, \n",
    "                           centroids=np.array(cluster_centers),\n",
    "                           title=\"Ground Truth\")\n"
   ]
  },
  {
   "cell_type": "markdown",
   "metadata": {},
   "source": [
    "### DBSCAN Clustering\n",
    "\n",
    "DBSCAN(Density-Based Spatial Clustering of Applications with Noise)은 밀도 기반 군집화 알고리즘입니다.\n",
    "\n",
    "# <img src=\"../resources/ch5/DBSCAN.gif\" width=\"50%\">\n",
    "\n",
    "알고리즘에서 주로 다뤄지는 용어들의 의미는 아래와 같습니다:\n",
    "\n",
    "- **Epsilon (ε)**: DBSCAN에서 이웃을 정의하는 거리 임계값\n",
    "- **MinPts**: DBSCAN에서 코어 포인트가 되기 위한 최소 이웃 개수\n",
    "- **코어 포인트 (Core Point)**: epsilon 반경 내에 최소 MinPts개의 이웃을 가진 포인트\n",
    "- **경계 포인트 (Border Point)**: 코어 포인트의 이웃이지만 자신은 코어 포인트가 아닌 포인트  \n",
    "- **노이즈 포인트 (Noise Point)**: 어떤 클러스터에도 속하지 않는 포인트\n",
    "\n",
    "### DBSCAN 알고리즘 단계:\n",
    "1. 임의의 한 포인트부터 epsilon 반경 내 이웃들을 추출\n",
    "2. MinPts 이상의 이웃을 가진 포인트인 경우, 해당 클러스터의 코어 포인트로 분류\n",
    "3. epsilon 반경 내 이웃 점들도 해당 클러스터에 속하게 되며, 이웃 점들에 대해서도 1~3 과정 반복\n",
    "4. 방문할 이웃 점이 존재하지 않을 때까지 모든 경계 포인트들을 방문하며 클러스터 형성\n",
    "5. 현재의 군집화가 끝난 경우, 클러스터에 포함되지 않은 새로운 point를 다시 선정하여 위 과정을 반복  \n",
    "모든 포인트들을 방문하여 클러스터 포인트 혹은 노이즈 포인트로 분류"
   ]
  },
  {
   "cell_type": "code",
   "execution_count": 36,
   "metadata": {},
   "outputs": [],
   "source": [
    "# DBSCAN 클러스터링 함수들 불러오기\n",
    "from tutlibs.radar.custom_radar import custom_dbscan_clustering, custom_clustering_metrics"
   ]
  },
  {
   "cell_type": "markdown",
   "metadata": {},
   "source": [
    "### 4-1. DBSCAN 코드 작성\n",
    "아래의 코드 및 함수들을 수정하여 DBSCAN 알고리즘을 완성하세요."
   ]
  },
  {
   "cell_type": "code",
   "execution_count": 39,
   "metadata": {},
   "outputs": [
    {
     "name": "stdout",
     "output_type": "stream",
     "text": [
      "=== DBSCAN 구현 ===\n",
      "Epsilon: 1.2, MinPts: 5\n"
     ]
    }
   ],
   "source": [
    "epsilon_manual = 1.2    # 0.5, 0.8, 1.2, 1.5, 2.0\n",
    "min_points_manual = 5   # 3, 5, 8, 12\n",
    "\n",
    "print(\"=== DBSCAN 구현 ===\")\n",
    "print(f\"Epsilon: {epsilon_manual}, MinPts: {min_points_manual}\")\n",
    "\n",
    "# DBSCAN 클러스터링 수행\n",
    "dbscan_labels, n_clusters = custom_dbscan_clustering(test_pcd, epsilon=epsilon_manual, min_points=min_points_manual) # TODO: custom_dbscan_clustering 함수 구현"
   ]
  },
  {
   "cell_type": "code",
   "execution_count": 40,
   "metadata": {},
   "outputs": [
    {
     "name": "stdout",
     "output_type": "stream",
     "text": [
      "발견된 클러스터 개수: 4\n",
      "클러스터에 속한 포인트: 439\n",
      "노이즈 포인트: 61\n"
     ]
    }
   ],
   "source": [
    "# 결과 분석\n",
    "n_noise = np.sum(dbscan_labels == -1)\n",
    "n_clustered = len(dbscan_labels) - n_noise\n",
    "\n",
    "print(f\"발견된 클러스터 개수: {n_clusters}\")\n",
    "print(f\"클러스터에 속한 포인트: {n_clustered}\")\n",
    "print(f\"노이즈 포인트: {n_noise}\")\n",
    "\n",
    "# 결과 시각화\n",
    "visualize_clustering_result(test_pcd, dbscan_labels, \n",
    "                            title=f\"DBSCAN (ε={epsilon_manual}, MinPts={min_points_manual})\",\n",
    "                            show_centroids=False)"
   ]
  },
  {
   "cell_type": "markdown",
   "metadata": {},
   "source": [
    "### 4-2. 클러스터링 알고리즘 분석\n",
    "\n",
    "DBSCAN의 성능을 분석해보겠습니다."
   ]
  },
  {
   "cell_type": "code",
   "execution_count": 41,
   "metadata": {},
   "outputs": [
    {
     "name": "stdout",
     "output_type": "stream",
     "text": [
      "=== 클러스터링 알고리즘 성능 분석 ===\n",
      "\n",
      "DBSCAN 성능:\n",
      "  순도: 0.958\n",
      "  예측된 클러스터 개수: 5\n",
      "  실제 클러스터 개수: 5\n"
     ]
    },
    {
     "data": {
      "image/png": "[encoded data removed]",
      "text/plain": [
       "<Figure size 500x500 with 1 Axes>"
      ]
     },
     "metadata": {},
     "output_type": "display_data"
    }
   ],
   "source": [
    "# 클러스터링 성능 평가\n",
    "print(\"=== 클러스터링 알고리즘 성능 분석 ===\")\n",
    "\n",
    "# DBSCAN 성능 평가\n",
    "dbscan_metrics = custom_clustering_metrics(true_labels, dbscan_labels)\n",
    "print(\"\\nDBSCAN 성능:\")\n",
    "print(f\"  순도: {dbscan_metrics['purity']:.3f}\")\n",
    "print(f\"  예측된 클러스터 개수: {dbscan_metrics['n_predicted_clusters']}\")\n",
    "print(f\"  실제 클러스터 개수: {dbscan_metrics['n_true_clusters']}\")\n",
    "\n",
    "# 성능 비교 차트\n",
    "methods = ['DBSCAN']\n",
    "purity_scores = [dbscan_metrics['purity']]\n",
    "\n",
    "fig, (ax1) = plt.subplots(1, 1, figsize=(5, 5))\n",
    "\n",
    "# 순도 비교\n",
    "ax1.bar(methods, purity_scores, color=['blue', 'orange'])\n",
    "ax1.set_ylabel('Purity')\n",
    "ax1.set_title('Clustering Purity Comparison')\n",
    "ax1.set_ylim(0, 1)\n",
    "for i, v in enumerate(purity_scores):\n",
    "    ax1.text(i, v + 0.01, f'{v:.3f}', ha='center')\n",
    "\n",
    "plt.tight_layout()\n",
    "plt.show()\n"
   ]
  },
  {
   "cell_type": "markdown",
   "metadata": {},
   "source": [
    "### 결과 비교 시각화"
   ]
  },
  {
   "cell_type": "code",
   "execution_count": 42,
   "metadata": {},
   "outputs": [
    {
     "name": "stdout",
     "output_type": "stream",
     "text": [
      "=== 클러스터링 결과 비교 시각화 ===\n",
      "1. 실제 클러스터링 (Ground Truth)\n",
      "2. DBSCAN 결과\n",
      "각 창을 닫으면 다음 결과로 진행됩니다.\n"
     ]
    }
   ],
   "source": [
    "# 모든 결과를 순차적으로 비교\n",
    "print(\"=== 클러스터링 결과 비교 시각화 ===\")\n",
    "print(\"1. 실제 클러스터링 (Ground Truth)\")\n",
    "print(\"2. DBSCAN 결과\")\n",
    "print(\"각 창을 닫으면 다음 결과로 진행됩니다.\")\n",
    "\n",
    "# 1. Ground Truth\n",
    "visualize_clustering_result(test_pcd, true_labels,\n",
    "                           centroids=np.array(cluster_centers),\n",
    "                           title=\"1. Ground Truth\")\n",
    "\n",
    "# 2. DBSCAN 결과\n",
    "visualize_clustering_result(test_pcd, dbscan_labels,\n",
    "                           title=\"2. DBSCAN Clustering Result\",\n",
    "                           show_centroids=False)\n"
   ]
  },
  {
   "cell_type": "markdown",
   "metadata": {},
   "source": [
    "### 4-3. 실제 포인트 클라우드 데이터로 클러스터링\n",
    "\n",
    "이제 실제 포인트 클라우드 데이터를 가져와 클러스터링을 적용해보겠습니다."
   ]
  },
  {
   "cell_type": "code",
   "execution_count": 47,
   "metadata": {},
   "outputs": [
    {
     "ename": "NameError",
     "evalue": "name 'merged_radar_pcd' is not defined",
     "output_type": "error",
     "traceback": [
      "\u001b[1;31m---------------------------------------------------------------------------\u001b[0m",
      "\u001b[1;31mNameError\u001b[0m                                 Traceback (most recent call last)",
      "\u001b[1;32mC:\\Users\\JEH\\AppData\\Local\\Temp\\ipykernel_15020\\3136312515.py\u001b[0m in \u001b[0;36m<module>\u001b[1;34m\u001b[0m\n\u001b[1;32m----> 1\u001b[1;33m \u001b[0mloaded_pcd\u001b[0m \u001b[1;33m=\u001b[0m \u001b[0mmerged_radar_pcd\u001b[0m \u001b[1;31m# 병합한 데이터\u001b[0m\u001b[1;33m\u001b[0m\u001b[1;33m\u001b[0m\u001b[0m\n\u001b[0m\u001b[0;32m      2\u001b[0m \u001b[1;33m\u001b[0m\u001b[0m\n\u001b[0;32m      3\u001b[0m \u001b[1;31m# DBSCAN 클러스터링\u001b[0m\u001b[1;33m\u001b[0m\u001b[1;33m\u001b[0m\u001b[1;33m\u001b[0m\u001b[0m\n\u001b[0;32m      4\u001b[0m \u001b[0mprint\u001b[0m\u001b[1;33m(\u001b[0m\u001b[1;34m\"2. DBSCAN 클러스터링 수행...\"\u001b[0m\u001b[1;33m)\u001b[0m\u001b[1;33m\u001b[0m\u001b[1;33m\u001b[0m\u001b[0m\n\u001b[0;32m      5\u001b[0m \u001b[0mepsilon_tune\u001b[0m \u001b[1;33m=\u001b[0m \u001b[1;36m5.0\u001b[0m  \u001b[1;31m# TODO: Epsilon 값 조정\u001b[0m\u001b[1;33m\u001b[0m\u001b[1;33m\u001b[0m\u001b[0m\n",
      "\u001b[1;31mNameError\u001b[0m: name 'merged_radar_pcd' is not defined"
     ]
    }
   ],
   "source": [
    "loaded_pcd = merged_radar_pcd # 병합한 데이터\n",
    "\n",
    "# DBSCAN 클러스터링\n",
    "print(\"2. DBSCAN 클러스터링 수행...\")\n",
    "epsilon_tune = 5.0  # TODO: Epsilon 값 조정\n",
    "min_points_tune = 2.0  # TODO: 최소 포인트 개수 조정\n",
    "pcd_dbscan_labels, pcd_n_clusters = custom_dbscan_clustering(\n",
    "    loaded_pcd, epsilon=epsilon_tune, min_points=min_points_tune\n",
    ")\n",
    "\n",
    "print(f\"DBSCAN 결과: {pcd_n_clusters}개 클러스터, {np.sum(pcd_dbscan_labels == -1)}개 노이즈\")\n",
    "\n",
    "# 결과 시각화\n",
    "visualize_clustering_result(loaded_pcd, pcd_dbscan_labels,\n",
    "                           title=\"PCD - DBSCAN Result\",\n",
    "                           show_centroids=False)\n"
   ]
  },
  {
   "cell_type": "code",
   "execution_count": null,
   "metadata": {},
   "outputs": [
    {
     "name": "stdout",
     "output_type": "stream",
     "text": [
      "2. DBSCAN 클러스터링 수행...\n"
     ]
    }
   ],
   "source": [
    "loaded_pcd = o3d.io.read_point_cloud(\"../data/lidar_pcd/various_objects_color.ply\")\n",
    "\n",
    "# DBSCAN 클러스터링\n",
    "print(\"2. DBSCAN 클러스터링 수행...\")\n",
    "epsilon_tune = 5.0  # TODO: Epsilon 값 조정\n",
    "min_points_tune = 2  # TODO: 최소 포인트 개수 조정\n",
    "pcd_dbscan_labels, pcd_n_clusters = custom_dbscan_clustering(\n",
    "    loaded_pcd, epsilon=epsilon_tune, min_points=min_points_tune\n",
    ")\n",
    "\n",
    "print(f\"DBSCAN 결과: {pcd_n_clusters}개 클러스터, {np.sum(pcd_dbscan_labels == -1)}개 노이즈\")\n",
    "\n",
    "# 결과 시각화\n",
    "visualize_clustering_result(loaded_pcd, pcd_dbscan_labels,\n",
    "                           title=\"PCD - DBSCAN Result\",\n",
    "                           show_centroids=False)\n"
   ]
  }
 ],
 "metadata": {
  "kernelspec": {
   "display_name": "open3d-env",
   "language": "python",
   "name": "python3"
  },
  "language_info": {
   "codemirror_mode": {
    "name": "ipython",
    "version": 3
   },
   "file_extension": ".py",
   "mimetype": "text/x-python",
   "name": "python",
   "nbconvert_exporter": "python",
   "pygments_lexer": "ipython3",
   "version": "3.7.16"
  },
  "orig_nbformat": 4
 },
 "nbformat": 4,
 "nbformat_minor": 2
}
